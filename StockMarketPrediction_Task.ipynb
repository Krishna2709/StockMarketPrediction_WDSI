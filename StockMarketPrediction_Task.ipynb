{
 "cells": [
  {
   "cell_type": "markdown",
   "metadata": {},
   "source": [
    "# Deep Learning in Finance"
   ]
  },
  {
   "cell_type": "markdown",
   "metadata": {},
   "source": [
    "Deep Learning, a start of the art methodology used to deal with huge amount of data and can handle both supervised and unsupervised data. \n",
    "The amazing part of this Deep Learning is that it uses Neural Netwroks - an interconnected web of nodes and the edges that join them together. It has a potential to learn the features and reduce errors through Forward propogation and Backward propogation. The errors are minimised through Gradient Descent techniques. "
   ]
  },
  {
   "cell_type": "markdown",
   "metadata": {},
   "source": [
    "### Applications of Deep Learning"
   ]
  },
  {
   "cell_type": "markdown",
   "metadata": {},
   "source": [
    "Sentiment Analysis <br>\n",
    "Named Entity Recognition <br>\n",
    "Image Recognition <br>\n",
    "Object Recognition <br>\n",
    "Speech Recognition <br>\n",
    "Time Series Analysis and many more...<br>"
   ]
  },
  {
   "cell_type": "markdown",
   "metadata": {},
   "source": [
    "### Deep Learning in Finance"
   ]
  },
  {
   "cell_type": "markdown",
   "metadata": {},
   "source": [
    "Stock Market Prediction <br>\n",
    "Financial Security <br>\n",
    "Automation Process <br>\n",
    "Analysing Trading Strategies <br>\n",
    "Loan Application Evaluation <br>\n",
    "Credit Card Customer Research and many more... <br>\n",
    "##### Companies like CRISIL, JP Morgan Chase, BNY Mello and others are using Deep Learning Frameworks in their financial fields.<br>\n",
    "Here we will be discussing about Stock Market Prediction."
   ]
  },
  {
   "cell_type": "markdown",
   "metadata": {},
   "source": [
    "### Stock Market Prediction \n",
    "Here, we try to predict the direction of market(uptrend or downtrend) using a set of features, thus we can consider it as a Binary Classification problem i.e <br>\n",
    "0 => Downtrend <br>\n",
    "1 => Uptrend"
   ]
  },
  {
   "cell_type": "markdown",
   "metadata": {},
   "source": [
    "### 1. Getting the system ready and loading the data"
   ]
  },
  {
   "cell_type": "code",
   "execution_count": 42,
   "metadata": {},
   "outputs": [],
   "source": [
    "# Importing the required packages\n",
    "\n",
    "import pandas as pd\n",
    "import numpy as np\n",
    "import math \n",
    "\n",
    "# Using Yahoo Finance library - Installation -> pip install yfinance\n",
    "import yfinance as yf \n",
    "\n",
    "# to preprocess the data\n",
    "from sklearn.preprocessing import MinMaxScaler\n",
    "\n",
    "# to create Visualisations\n",
    "import seaborn as sns\n",
    "import matplotlib.pyplot as plt \n",
    "\n",
    "# to create a LSTM model\n",
    "from keras.models import Sequential\n",
    "from keras.layers import Dense, Activation, Dropout\n",
    "from keras.layers import LSTM\n",
    "\n",
    "# to calculate the metrics\n",
    "from sklearn.metrics import confusion_matrix, mean_squared_error\n",
    "\n",
    "import warnings\n",
    "warnings.filterwarnings('ignore')"
   ]
  },
  {
   "cell_type": "code",
   "execution_count": 2,
   "metadata": {},
   "outputs": [
    {
     "name": "stdout",
     "output_type": "stream",
     "text": [
      "[*********************100%***********************]  1 of 1 completed\n"
     ]
    }
   ],
   "source": [
    "# Loading the data \n",
    "# Using Apple's stock price data from 1st Jan, 2018 to 26th July, 2020\n",
    "dataset = yf.download(\"AAPL\", start=\"2018-01-01\", end=\"2020-07-26\")"
   ]
  },
  {
   "cell_type": "markdown",
   "metadata": {},
   "source": [
    "### 2. Dataset Content"
   ]
  },
  {
   "cell_type": "code",
   "execution_count": 3,
   "metadata": {},
   "outputs": [
    {
     "data": {
      "text/html": [
       "<div>\n",
       "<style scoped>\n",
       "    .dataframe tbody tr th:only-of-type {\n",
       "        vertical-align: middle;\n",
       "    }\n",
       "\n",
       "    .dataframe tbody tr th {\n",
       "        vertical-align: top;\n",
       "    }\n",
       "\n",
       "    .dataframe thead th {\n",
       "        text-align: right;\n",
       "    }\n",
       "</style>\n",
       "<table border=\"1\" class=\"dataframe\">\n",
       "  <thead>\n",
       "    <tr style=\"text-align: right;\">\n",
       "      <th></th>\n",
       "      <th>Open</th>\n",
       "      <th>High</th>\n",
       "      <th>Low</th>\n",
       "      <th>Close</th>\n",
       "      <th>Adj Close</th>\n",
       "      <th>Volume</th>\n",
       "    </tr>\n",
       "    <tr>\n",
       "      <th>Date</th>\n",
       "      <th></th>\n",
       "      <th></th>\n",
       "      <th></th>\n",
       "      <th></th>\n",
       "      <th></th>\n",
       "      <th></th>\n",
       "    </tr>\n",
       "  </thead>\n",
       "  <tbody>\n",
       "    <tr>\n",
       "      <th>2018-01-02</th>\n",
       "      <td>170.160004</td>\n",
       "      <td>172.300003</td>\n",
       "      <td>169.259995</td>\n",
       "      <td>172.259995</td>\n",
       "      <td>166.353714</td>\n",
       "      <td>25555900</td>\n",
       "    </tr>\n",
       "    <tr>\n",
       "      <th>2018-01-03</th>\n",
       "      <td>172.529999</td>\n",
       "      <td>174.550003</td>\n",
       "      <td>171.960007</td>\n",
       "      <td>172.229996</td>\n",
       "      <td>166.324722</td>\n",
       "      <td>29517900</td>\n",
       "    </tr>\n",
       "    <tr>\n",
       "      <th>2018-01-04</th>\n",
       "      <td>172.539993</td>\n",
       "      <td>173.470001</td>\n",
       "      <td>172.080002</td>\n",
       "      <td>173.029999</td>\n",
       "      <td>167.097290</td>\n",
       "      <td>22434600</td>\n",
       "    </tr>\n",
       "    <tr>\n",
       "      <th>2018-01-05</th>\n",
       "      <td>173.440002</td>\n",
       "      <td>175.369995</td>\n",
       "      <td>173.050003</td>\n",
       "      <td>175.000000</td>\n",
       "      <td>168.999741</td>\n",
       "      <td>23660000</td>\n",
       "    </tr>\n",
       "    <tr>\n",
       "      <th>2018-01-08</th>\n",
       "      <td>174.350006</td>\n",
       "      <td>175.610001</td>\n",
       "      <td>173.929993</td>\n",
       "      <td>174.350006</td>\n",
       "      <td>168.372040</td>\n",
       "      <td>20567800</td>\n",
       "    </tr>\n",
       "  </tbody>\n",
       "</table>\n",
       "</div>"
      ],
      "text/plain": [
       "                  Open        High         Low       Close   Adj Close  \\\n",
       "Date                                                                     \n",
       "2018-01-02  170.160004  172.300003  169.259995  172.259995  166.353714   \n",
       "2018-01-03  172.529999  174.550003  171.960007  172.229996  166.324722   \n",
       "2018-01-04  172.539993  173.470001  172.080002  173.029999  167.097290   \n",
       "2018-01-05  173.440002  175.369995  173.050003  175.000000  168.999741   \n",
       "2018-01-08  174.350006  175.610001  173.929993  174.350006  168.372040   \n",
       "\n",
       "              Volume  \n",
       "Date                  \n",
       "2018-01-02  25555900  \n",
       "2018-01-03  29517900  \n",
       "2018-01-04  22434600  \n",
       "2018-01-05  23660000  \n",
       "2018-01-08  20567800  "
      ]
     },
     "execution_count": 3,
     "metadata": {},
     "output_type": "execute_result"
    }
   ],
   "source": [
    "dataset.head()"
   ]
  },
  {
   "cell_type": "code",
   "execution_count": 4,
   "metadata": {},
   "outputs": [
    {
     "data": {
      "text/html": [
       "<div>\n",
       "<style scoped>\n",
       "    .dataframe tbody tr th:only-of-type {\n",
       "        vertical-align: middle;\n",
       "    }\n",
       "\n",
       "    .dataframe tbody tr th {\n",
       "        vertical-align: top;\n",
       "    }\n",
       "\n",
       "    .dataframe thead th {\n",
       "        text-align: right;\n",
       "    }\n",
       "</style>\n",
       "<table border=\"1\" class=\"dataframe\">\n",
       "  <thead>\n",
       "    <tr style=\"text-align: right;\">\n",
       "      <th></th>\n",
       "      <th>Open</th>\n",
       "      <th>High</th>\n",
       "      <th>Low</th>\n",
       "      <th>Close</th>\n",
       "      <th>Adj Close</th>\n",
       "      <th>Volume</th>\n",
       "    </tr>\n",
       "    <tr>\n",
       "      <th>Date</th>\n",
       "      <th></th>\n",
       "      <th></th>\n",
       "      <th></th>\n",
       "      <th></th>\n",
       "      <th></th>\n",
       "      <th></th>\n",
       "    </tr>\n",
       "  </thead>\n",
       "  <tbody>\n",
       "    <tr>\n",
       "      <th>2020-07-20</th>\n",
       "      <td>385.670013</td>\n",
       "      <td>394.000000</td>\n",
       "      <td>384.250000</td>\n",
       "      <td>393.429993</td>\n",
       "      <td>393.429993</td>\n",
       "      <td>22579500</td>\n",
       "    </tr>\n",
       "    <tr>\n",
       "      <th>2020-07-21</th>\n",
       "      <td>396.690002</td>\n",
       "      <td>397.000000</td>\n",
       "      <td>386.970001</td>\n",
       "      <td>388.000000</td>\n",
       "      <td>388.000000</td>\n",
       "      <td>25911500</td>\n",
       "    </tr>\n",
       "    <tr>\n",
       "      <th>2020-07-22</th>\n",
       "      <td>386.769989</td>\n",
       "      <td>391.899994</td>\n",
       "      <td>386.410004</td>\n",
       "      <td>389.089996</td>\n",
       "      <td>389.089996</td>\n",
       "      <td>22250400</td>\n",
       "    </tr>\n",
       "    <tr>\n",
       "      <th>2020-07-23</th>\n",
       "      <td>387.989990</td>\n",
       "      <td>388.309998</td>\n",
       "      <td>368.040009</td>\n",
       "      <td>371.380005</td>\n",
       "      <td>371.380005</td>\n",
       "      <td>49251100</td>\n",
       "    </tr>\n",
       "    <tr>\n",
       "      <th>2020-07-24</th>\n",
       "      <td>363.950012</td>\n",
       "      <td>371.880005</td>\n",
       "      <td>356.579987</td>\n",
       "      <td>370.459991</td>\n",
       "      <td>370.459991</td>\n",
       "      <td>46359700</td>\n",
       "    </tr>\n",
       "  </tbody>\n",
       "</table>\n",
       "</div>"
      ],
      "text/plain": [
       "                  Open        High         Low       Close   Adj Close  \\\n",
       "Date                                                                     \n",
       "2020-07-20  385.670013  394.000000  384.250000  393.429993  393.429993   \n",
       "2020-07-21  396.690002  397.000000  386.970001  388.000000  388.000000   \n",
       "2020-07-22  386.769989  391.899994  386.410004  389.089996  389.089996   \n",
       "2020-07-23  387.989990  388.309998  368.040009  371.380005  371.380005   \n",
       "2020-07-24  363.950012  371.880005  356.579987  370.459991  370.459991   \n",
       "\n",
       "              Volume  \n",
       "Date                  \n",
       "2020-07-20  22579500  \n",
       "2020-07-21  25911500  \n",
       "2020-07-22  22250400  \n",
       "2020-07-23  49251100  \n",
       "2020-07-24  46359700  "
      ]
     },
     "execution_count": 4,
     "metadata": {},
     "output_type": "execute_result"
    }
   ],
   "source": [
    "dataset.tail()"
   ]
  },
  {
   "cell_type": "code",
   "execution_count": 5,
   "metadata": {},
   "outputs": [
    {
     "name": "stdout",
     "output_type": "stream",
     "text": [
      "<class 'pandas.core.frame.DataFrame'>\n",
      "DatetimeIndex: 645 entries, 2018-01-02 to 2020-07-24\n",
      "Data columns (total 6 columns):\n",
      " #   Column     Non-Null Count  Dtype  \n",
      "---  ------     --------------  -----  \n",
      " 0   Open       645 non-null    float64\n",
      " 1   High       645 non-null    float64\n",
      " 2   Low        645 non-null    float64\n",
      " 3   Close      645 non-null    float64\n",
      " 4   Adj Close  645 non-null    float64\n",
      " 5   Volume     645 non-null    int64  \n",
      "dtypes: float64(5), int64(1)\n",
      "memory usage: 35.3 KB\n"
     ]
    }
   ],
   "source": [
    "dataset.info()"
   ]
  },
  {
   "cell_type": "markdown",
   "metadata": {},
   "source": [
    "We can see that the last entry is on 24th July, 2020. \n",
    "The stock markets are closed on Saturdays' and Sundays' along with some public holidays.\n",
    "25th and 26th of July are Saturday and Sunday respectively."
   ]
  },
  {
   "cell_type": "code",
   "execution_count": 6,
   "metadata": {},
   "outputs": [
    {
     "data": {
      "text/plain": [
       "Index(['Open', 'High', 'Low', 'Close', 'Adj Close', 'Volume'], dtype='object')"
      ]
     },
     "execution_count": 6,
     "metadata": {},
     "output_type": "execute_result"
    }
   ],
   "source": [
    "# Understanding the features/columns in the dataset\n",
    "dataset.columns"
   ]
  },
  {
   "cell_type": "markdown",
   "metadata": {},
   "source": [
    "Open &emsp;   - Opening value of stock price <br>\n",
    "High &emsp;  - Highest value of the stock price in that day <br>\n",
    "Low  &emsp;   - Lowest value of the stock price in that day <br>\n",
    "Close &emsp;  - Closing value of the stock price in that day <br>\n",
    "Adj Close - Adjusted Closing values of the stock price after closing. <br>\n",
    "&emsp; &emsp; &emsp; &emsp; &ensp; Generally the stock value after the dividends or stock-splits or stock offerings are posted.<br>\n",
    "Volume  - Total number of shares traded in that day."
   ]
  },
  {
   "cell_type": "markdown",
   "metadata": {},
   "source": [
    "Adjusted closing price amends a stock's closing price to accurately reflect that stock's value after accounting for any corporate actions. <br>\n",
    "The closing price is the 'raw' price which is just the cash value of the last transacted price before the market closes. <br>\n",
    "Adjusted closing price factors in corporate actions such as stock splits, dividends / distributions and rights offerings.<br>Investopedia"
   ]
  },
  {
   "cell_type": "markdown",
   "metadata": {},
   "source": [
    "### 3. Preprocessing the Data"
   ]
  },
  {
   "cell_type": "markdown",
   "metadata": {},
   "source": [
    "Adjustment Factor = (Close - Dividend)/Close <br>\n",
    "We need to multipy all the historical prices preceeding the dividend by the Adjustment Factor. "
   ]
  },
  {
   "cell_type": "code",
   "execution_count": 7,
   "metadata": {},
   "outputs": [],
   "source": [
    "# Calculating Adjustment Factor\n",
    "dataset['AdjustmentFactor'] = dataset['Adj Close']/dataset['Close']\n",
    "\n",
    "# Adjusting Open, High and Low values\n",
    "dataset['Adj Open'] = dataset['Open'] * dataset['AdjustmentFactor']\n",
    "dataset['Adj High'] = dataset['High'] * dataset['AdjustmentFactor']\n",
    "dataset['Adj Low'] = dataset['Low'] * dataset['AdjustmentFactor']"
   ]
  },
  {
   "cell_type": "code",
   "execution_count": 8,
   "metadata": {},
   "outputs": [
    {
     "data": {
      "image/png": "[encoded data removed]",
      "text/plain": [
       "<Figure size 1152x576 with 1 Axes>"
      ]
     },
     "metadata": {
      "needs_background": "light"
     },
     "output_type": "display_data"
    }
   ],
   "source": [
    "# Exploring the Open price and Adjusted Open Price\n",
    "plt.figure(figsize=(16,8))\n",
    "plt.plot(dataset.index, dataset.Open, label='Open Price')\n",
    "plt.plot(dataset.index, dataset['Adj Open'], label='Adjusted Open Price')\n",
    "plt.legend()\n",
    "plt.show()"
   ]
  },
  {
   "cell_type": "markdown",
   "metadata": {},
   "source": [
    "### 4. Feature Extraction"
   ]
  },
  {
   "cell_type": "markdown",
   "metadata": {},
   "source": [
    "We will be using the following features for classification <br>\n",
    "1. Mean value of Adjusted Open, High and Low. <br>\n",
    "2. Adjusted Close value. <br>\n",
    "3. Returns of the day before."
   ]
  },
  {
   "cell_type": "code",
   "execution_count": 9,
   "metadata": {},
   "outputs": [],
   "source": [
    "# 1. Mean of Adjusted Open, High and Low\n",
    "OHL_mean = dataset[['Adj Open','Adj High','Adj Low']].mean(axis = 1)"
   ]
  },
  {
   "cell_type": "code",
   "execution_count": 10,
   "metadata": {},
   "outputs": [],
   "source": [
    "# 2. Adjusted Close\n",
    "close_value = dataset[[\"Adj Close\"]]"
   ]
  },
  {
   "cell_type": "code",
   "execution_count": 11,
   "metadata": {},
   "outputs": [],
   "source": [
    "# 3. Returns of the day before\n",
    "# Calculated using the Percentag Change\n",
    "# [(Present value - Previous value)/Present Value] * 100\n",
    "returns = dataset[['Adj Close']].pct_change()"
   ]
  },
  {
   "cell_type": "code",
   "execution_count": 12,
   "metadata": {},
   "outputs": [],
   "source": [
    "# concatenating the above extracted features\n",
    "x = pd.concat([OHL_mean, close_value, returns], axis=1)\n",
    "x.columns = ['OHL', 'Adj Close', 'Returns']"
   ]
  },
  {
   "cell_type": "code",
   "execution_count": 13,
   "metadata": {},
   "outputs": [
    {
     "data": {
      "text/html": [
       "<div>\n",
       "<style scoped>\n",
       "    .dataframe tbody tr th:only-of-type {\n",
       "        vertical-align: middle;\n",
       "    }\n",
       "\n",
       "    .dataframe tbody tr th {\n",
       "        vertical-align: top;\n",
       "    }\n",
       "\n",
       "    .dataframe thead th {\n",
       "        text-align: right;\n",
       "    }\n",
       "</style>\n",
       "<table border=\"1\" class=\"dataframe\">\n",
       "  <thead>\n",
       "    <tr style=\"text-align: right;\">\n",
       "      <th></th>\n",
       "      <th>OHL</th>\n",
       "      <th>Adj Close</th>\n",
       "      <th>Returns</th>\n",
       "    </tr>\n",
       "    <tr>\n",
       "      <th>Date</th>\n",
       "      <th></th>\n",
       "      <th></th>\n",
       "      <th></th>\n",
       "    </tr>\n",
       "  </thead>\n",
       "  <tbody>\n",
       "    <tr>\n",
       "      <th>2018-01-02</th>\n",
       "      <td>164.724884</td>\n",
       "      <td>166.353714</td>\n",
       "      <td>NaN</td>\n",
       "    </tr>\n",
       "    <tr>\n",
       "      <th>2018-01-03</th>\n",
       "      <td>167.081204</td>\n",
       "      <td>166.324722</td>\n",
       "      <td>-0.000174</td>\n",
       "    </tr>\n",
       "    <tr>\n",
       "      <th>2018-01-04</th>\n",
       "      <td>166.775386</td>\n",
       "      <td>167.097290</td>\n",
       "      <td>0.004645</td>\n",
       "    </tr>\n",
       "    <tr>\n",
       "      <th>2018-01-05</th>\n",
       "      <td>167.988961</td>\n",
       "      <td>168.999741</td>\n",
       "      <td>0.011385</td>\n",
       "    </tr>\n",
       "    <tr>\n",
       "      <th>2018-01-08</th>\n",
       "      <td>168.642433</td>\n",
       "      <td>168.372040</td>\n",
       "      <td>-0.003714</td>\n",
       "    </tr>\n",
       "  </tbody>\n",
       "</table>\n",
       "</div>"
      ],
      "text/plain": [
       "                   OHL   Adj Close   Returns\n",
       "Date                                        \n",
       "2018-01-02  164.724884  166.353714       NaN\n",
       "2018-01-03  167.081204  166.324722 -0.000174\n",
       "2018-01-04  166.775386  167.097290  0.004645\n",
       "2018-01-05  167.988961  168.999741  0.011385\n",
       "2018-01-08  168.642433  168.372040 -0.003714"
      ]
     },
     "execution_count": 13,
     "metadata": {},
     "output_type": "execute_result"
    }
   ],
   "source": [
    "x.head()"
   ]
  },
  {
   "cell_type": "code",
   "execution_count": 14,
   "metadata": {},
   "outputs": [],
   "source": [
    "# Converting x dataframe into a numpy array for easier data manipulation\n",
    "x = x.to_numpy()"
   ]
  },
  {
   "cell_type": "code",
   "execution_count": 15,
   "metadata": {},
   "outputs": [],
   "source": [
    "# Calculating the target variable\n",
    "# -1 if Returns <0\n",
    "# 0 if Returns = 0\n",
    "# 1 if Returns >= 1\n",
    "# Since binary classification consists of 0s and 1s as target variables...\n",
    "# We are adding 1 to convert negative 1s to 0s.\n",
    "y = (np.sign(x[:,2])+1)/2"
   ]
  },
  {
   "cell_type": "markdown",
   "metadata": {},
   "source": [
    "### 5. Feature Scaling"
   ]
  },
  {
   "cell_type": "code",
   "execution_count": 16,
   "metadata": {},
   "outputs": [],
   "source": [
    "# If you observe the data values are not normally scaled...this cause\n",
    "# bias when the model is training.\n",
    "\n",
    "# # Defining the min-max scalar for scaling the features\n",
    "scaler = MinMaxScaler(feature_range=(0, 1))\n",
    "\n",
    "# Scaling the features\n",
    "x = scaler.fit_transform(x)"
   ]
  },
  {
   "cell_type": "code",
   "execution_count": 17,
   "metadata": {},
   "outputs": [],
   "source": [
    "# Concatenating the features and target variables\n",
    "xy = np.concatenate([x, y.reshape(-1, 1)], axis=1)"
   ]
  },
  {
   "cell_type": "code",
   "execution_count": 18,
   "metadata": {},
   "outputs": [
    {
     "data": {
      "text/plain": [
       "(645, 4)"
      ]
     },
     "execution_count": 18,
     "metadata": {},
     "output_type": "execute_result"
    }
   ],
   "source": [
    "# Shape of the data\n",
    "xy.shape"
   ]
  },
  {
   "cell_type": "code",
   "execution_count": 19,
   "metadata": {},
   "outputs": [
    {
     "data": {
      "text/plain": [
       "(644, 4)"
      ]
     },
     "execution_count": 19,
     "metadata": {},
     "output_type": "execute_result"
    }
   ],
   "source": [
    "# Remove all rows with either feature or label null\n",
    "xy = xy[~np.isnan(xy).any(axis=1)]\n",
    "\n",
    "xy.shape"
   ]
  },
  {
   "cell_type": "code",
   "execution_count": 20,
   "metadata": {},
   "outputs": [],
   "source": [
    "# Splitting the data into train and test data\n",
    "train_xy_len = int(xy.shape[0]*0.75) # 75% of the data is used to train\n",
    "train_xy, test_xy = xy[0:train_xy_len], xy[train_xy_len:]\n",
    "\n",
    "train_x = train_xy[:,:3]\n",
    "train_y = train_xy[:,3]\n",
    "test_x = test_xy[:,:3]\n",
    "test_y = test_xy[:,3]"
   ]
  },
  {
   "cell_type": "code",
   "execution_count": 21,
   "metadata": {},
   "outputs": [],
   "source": [
    "# Reshaping the data so as to fit in the model\n",
    "train_x = np.reshape(train_x, (train_x.shape[0], 1, train_x.shape[1]))\n",
    "test_x = np.reshape(test_x, (test_x.shape[0], 1, test_x.shape[1]))"
   ]
  },
  {
   "cell_type": "markdown",
   "metadata": {},
   "source": [
    "### 6. Creating the model"
   ]
  },
  {
   "cell_type": "code",
   "execution_count": 22,
   "metadata": {},
   "outputs": [],
   "source": [
    "# Number of features\n",
    "step_size = 3\n",
    " \n",
    "#Define the sequential object\n",
    "classifier = Sequential()\n",
    "\n",
    "# Add LSTM later with 50 units and input size (1,3)\n",
    "classifier.add(LSTM(units = 50, return_sequences = True, input_shape = (1, step_size)))\n",
    "\n",
    "# Add dropout for regularisation \n",
    "classifier.add(Dropout(0.2))\n",
    "\n",
    "# Add another LSTM unit\n",
    "classifier.add(LSTM(units = 50, return_sequences = True))\n",
    "\n",
    "# Add dropout for regularisation \n",
    "classifier.add(Dropout(0.2))\n",
    "classifier.add(LSTM(units = 50, return_sequences = True))\n",
    "classifier.add(Dropout(0.2))\n",
    "classifier.add(LSTM(units = 50))\n",
    "classifier.add(Dropout(0.2))\n",
    "\n",
    "# Add fully connected layer with one output\n",
    "classifier.add(Dense(units = 1))\n",
    " \n",
    "# Compile the model - set loss function, optimisation algorithm and evaluation metric\n",
    "classifier.compile(loss='mean_squared_error', optimizer='adam',metrics=['accuracy'])"
   ]
  },
  {
   "cell_type": "code",
   "execution_count": 23,
   "metadata": {},
   "outputs": [
    {
     "name": "stdout",
     "output_type": "stream",
     "text": [
      "Train on 323 samples, validate on 160 samples\n",
      "Epoch 1/25\n",
      "323/323 [==============================] - 11s 35ms/step - loss: 0.3001 - accuracy: 0.5077 - val_loss: 0.2470 - val_accuracy: 0.5188\n",
      "Epoch 2/25\n",
      "323/323 [==============================] - 4s 13ms/step - loss: 0.2436 - accuracy: 0.5511 - val_loss: 0.2427 - val_accuracy: 0.5188\n",
      "Epoch 3/25\n",
      "323/323 [==============================] - 4s 12ms/step - loss: 0.2270 - accuracy: 0.6254 - val_loss: 0.2208 - val_accuracy: 0.7125\n",
      "Epoch 4/25\n",
      "323/323 [==============================] - 4s 12ms/step - loss: 0.2209 - accuracy: 0.6223 - val_loss: 0.1993 - val_accuracy: 0.6187\n",
      "Epoch 5/25\n",
      "323/323 [==============================] - 4s 12ms/step - loss: 0.2075 - accuracy: 0.6718 - val_loss: 0.1669 - val_accuracy: 0.8375\n",
      "Epoch 6/25\n",
      "323/323 [==============================] - 4s 12ms/step - loss: 0.1712 - accuracy: 0.7523 - val_loss: 0.1357 - val_accuracy: 0.9563\n",
      "Epoch 7/25\n",
      "323/323 [==============================] - 4s 13ms/step - loss: 0.1651 - accuracy: 0.7678 - val_loss: 0.1960 - val_accuracy: 0.6187\n",
      "Epoch 8/25\n",
      "323/323 [==============================] - 4s 12ms/step - loss: 0.1675 - accuracy: 0.7895 - val_loss: 0.1320 - val_accuracy: 0.8687\n",
      "Epoch 9/25\n",
      "323/323 [==============================] - 4s 12ms/step - loss: 0.1539 - accuracy: 0.8080 - val_loss: 0.1270 - val_accuracy: 0.8000\n",
      "Epoch 10/25\n",
      "323/323 [==============================] - 4s 12ms/step - loss: 0.1566 - accuracy: 0.7926 - val_loss: 0.1119 - val_accuracy: 0.9750\n",
      "Epoch 11/25\n",
      "323/323 [==============================] - 4s 12ms/step - loss: 0.1476 - accuracy: 0.7988 - val_loss: 0.1100 - val_accuracy: 0.9750\n",
      "Epoch 12/25\n",
      "323/323 [==============================] - 4s 12ms/step - loss: 0.1504 - accuracy: 0.8080 - val_loss: 0.1089 - val_accuracy: 0.9750\n",
      "Epoch 13/25\n",
      "323/323 [==============================] - 4s 12ms/step - loss: 0.1455 - accuracy: 0.8019 - val_loss: 0.1109 - val_accuracy: 0.8938\n",
      "Epoch 14/25\n",
      "323/323 [==============================] - 4s 12ms/step - loss: 0.1319 - accuracy: 0.8359 - val_loss: 0.1622 - val_accuracy: 0.7000\n",
      "Epoch 15/25\n",
      "323/323 [==============================] - 4s 12ms/step - loss: 0.1278 - accuracy: 0.8452 - val_loss: 0.1131 - val_accuracy: 0.8125\n",
      "Epoch 16/25\n",
      "323/323 [==============================] - 4s 12ms/step - loss: 0.1163 - accuracy: 0.8607 - val_loss: 0.0836 - val_accuracy: 0.9563\n",
      "Epoch 17/25\n",
      "323/323 [==============================] - 4s 12ms/step - loss: 0.1111 - accuracy: 0.8638 - val_loss: 0.0779 - val_accuracy: 0.9812\n",
      "Epoch 18/25\n",
      "323/323 [==============================] - 4s 12ms/step - loss: 0.1088 - accuracy: 0.8607 - val_loss: 0.1136 - val_accuracy: 0.7812\n",
      "Epoch 19/25\n",
      "323/323 [==============================] - 4s 12ms/step - loss: 0.0967 - accuracy: 0.8916 - val_loss: 0.1049 - val_accuracy: 0.8313\n",
      "Epoch 20/25\n",
      "323/323 [==============================] - 4s 12ms/step - loss: 0.0860 - accuracy: 0.9102 - val_loss: 0.0870 - val_accuracy: 0.8687\n",
      "Epoch 21/25\n",
      "323/323 [==============================] - 4s 12ms/step - loss: 0.0818 - accuracy: 0.8885 - val_loss: 0.0770 - val_accuracy: 0.8875\n",
      "Epoch 22/25\n",
      "323/323 [==============================] - 4s 12ms/step - loss: 0.0900 - accuracy: 0.8824 - val_loss: 0.1842 - val_accuracy: 0.7125\n",
      "Epoch 23/25\n",
      "323/323 [==============================] - 4s 12ms/step - loss: 0.0844 - accuracy: 0.8916 - val_loss: 0.0406 - val_accuracy: 0.9750\n",
      "Epoch 24/25\n",
      "323/323 [==============================] - 4s 12ms/step - loss: 0.0658 - accuracy: 0.9226 - val_loss: 0.0813 - val_accuracy: 0.8813\n",
      "Epoch 25/25\n",
      "323/323 [==============================] - 4s 12ms/step - loss: 0.0807 - accuracy: 0.8916 - val_loss: 0.0481 - val_accuracy: 0.9500\n"
     ]
    }
   ],
   "source": [
    "# Train the model \n",
    "history = classifier.fit(train_x, train_y, epochs=25, batch_size=1,  validation_split=0.33)\n",
    " \n",
    "# Get test and train set predictions\n",
    "trainPredict = classifier.predict(train_x)\n",
    "testPredict = classifier.predict(test_x)"
   ]
  },
  {
   "cell_type": "code",
   "execution_count": 24,
   "metadata": {},
   "outputs": [
    {
     "data": {
      "image/png": "[encoded data removed]",
      "text/plain": [
       "<Figure size 432x288 with 1 Axes>"
      ]
     },
     "metadata": {
      "needs_background": "light"
     },
     "output_type": "display_data"
    }
   ],
   "source": [
    "plt.plot(history.history['loss'])\n",
    "plt.plot(history.history['val_loss'])\n",
    "plt.title('train vs validation loss')\n",
    "plt.ylabel('loss')\n",
    "plt.xlabel('epoch')\n",
    "plt.legend(['train', 'validation'], loc='upper right')\n",
    "plt.show()"
   ]
  },
  {
   "cell_type": "markdown",
   "metadata": {},
   "source": [
    "The spikes in validation loss can be of many reasons...one of them might the irregular data present in that batch"
   ]
  },
  {
   "cell_type": "markdown",
   "metadata": {},
   "source": [
    "### 7. Metrics"
   ]
  },
  {
   "cell_type": "code",
   "execution_count": 43,
   "metadata": {},
   "outputs": [
    {
     "data": {
      "text/plain": [
       "array([[53, 17],\n",
       "       [ 0, 91]])"
      ]
     },
     "execution_count": 43,
     "metadata": {},
     "output_type": "execute_result"
    }
   ],
   "source": [
    "# Since we need a binary value either 0 or 1 we will convert the obtained continuous values from prediction\n",
    "# 1 if predicted value >= 0.5\n",
    "# 0 if predicted value < 0.5\n",
    "test = np.where(testPredict>0.5, 1, 0) \n",
    "\n",
    "# Get the confusion matrix for binary classification\n",
    "\n",
    "# Reshaping the predicted values\n",
    "test = test.reshape(161,)\n",
    "# Converting the datatype of target values to integer value\n",
    "test_y.astype(int)\n",
    "\n",
    "cf_matrix = confusion_matrix(test_y.astype(int),test)\n",
    "\n",
    "\n",
    "cf_matrix"
   ]
  },
  {
   "cell_type": "code",
   "execution_count": null,
   "metadata": {},
   "outputs": [],
   "source": [
    "sns.heatmap(cf_matrix,\n",
    "                cmap='YlGnBu')"
   ]
  },
  {
   "cell_type": "code",
   "execution_count": null,
   "metadata": {},
   "outputs": [],
   "source": []
  }
 ],
 "metadata": {
  "kernelspec": {
   "display_name": "Python 3",
   "language": "python",
   "name": "python3"
  },
  "language_info": {
   "codemirror_mode": {
    "name": "ipython",
    "version": 3
   },
   "file_extension": ".py",
   "mimetype": "text/x-python",
   "name": "python",
   "nbconvert_exporter": "python",
   "pygments_lexer": "ipython3",
   "version": "3.7.5"
  }
 },
 "nbformat": 4,
 "nbformat_minor": 2
}
