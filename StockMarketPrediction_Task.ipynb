{
 "cells": [
  {
   "cell_type": "markdown",
   "metadata": {},
   "source": [
    "# Deep Learning in Finance"
   ]
  },
  {
   "cell_type": "markdown",
   "metadata": {},
   "source": [
    "Deep Learning, a start of the art methodology used to deal with huge amount of data and can handle both supervised and unsupervised data. \n",
    "The amazing part of this Deep Learning is that it uses Neural Netwroks - an interconnected web of nodes and the edges that join them together. It has a potential to learn the features and reduce errors through Forward propogation and Backward propogation. The errors are minimised through Gradient Descent techniques. "
   ]
  },
  {
   "cell_type": "markdown",
   "metadata": {},
   "source": [
    "##### Applications of Deep Learning"
   ]
  },
  {
   "cell_type": "markdown",
   "metadata": {},
   "source": [
    "Sentiment Analysis <br>\n",
    "Named Entity Recognition <br>\n",
    "Image Recognition <br>\n",
    "Object Recognition <br>\n",
    "Speech Recognition <br>\n",
    "Time Series Analysis and many more...<br>"
   ]
  },
  {
   "cell_type": "markdown",
   "metadata": {},
   "source": [
    "##### Deep Learning in Finance"
   ]
  },
  {
   "cell_type": "markdown",
   "metadata": {},
   "source": [
    "Stock Market Prediction <br>\n",
    "Financial Security <br>\n",
    "Automation Process <br>\n",
    "Analysing Trading Strategies <br>\n",
    "Loan Application Evaluation <br>\n",
    "Credit Card Customer Research and many more... <br>\n",
    "<br>\n",
    "Companies like CRISIL, JP Morgan Chase, BNY Mello and others are using Deep Learning Frameworks in their financial fields.<br>\n",
    "###### Here we will be discussing about Stock Market Trend Prediction."
   ]
  },
  {
   "cell_type": "markdown",
   "metadata": {},
   "source": [
    "### Stock Market  Trend Prediction \n",
    "Here, we try to predict the direction of market(uptrend or downtrend) using a set of features, thus we can consider it as a Binary Classification problem i.e <br>\n",
    "0 implies a Down trend in the market <br>\n",
    "1 implies an Up trend in the market\n",
    "<br>\n",
    "<br>\n",
    "We will use LSTM(a Recurrent Neural Network architecture) to predict the Stock Market trend"
   ]
  },
  {
   "cell_type": "markdown",
   "metadata": {},
   "source": [
    "### 1. Getting the system ready and loading the data"
   ]
  },
  {
   "cell_type": "markdown",
   "metadata": {},
   "source": [
    "We are using Yahoo! Finance data to get the stock price of a market.<br>\n",
    "Installing Yahoo! Finance python module."
   ]
  },
  {
   "cell_type": "code",
   "execution_count": 93,
   "metadata": {},
   "outputs": [
    {
     "name": "stdout",
     "output_type": "stream",
     "text": [
      "Requirement already satisfied: yfinance in /Users/krishnakankipati/opt/anaconda3/lib/python3.7/site-packages (0.1.54)\n",
      "Requirement already satisfied: requests>=2.20 in /Users/krishnakankipati/opt/anaconda3/lib/python3.7/site-packages (from yfinance) (2.23.0)\n",
      "Requirement already satisfied: numpy>=1.15 in /Users/krishnakankipati/opt/anaconda3/lib/python3.7/site-packages (from yfinance) (1.18.5)\n",
      "Requirement already satisfied: pandas>=0.24 in /Users/krishnakankipati/opt/anaconda3/lib/python3.7/site-packages (from yfinance) (1.0.5)\n",
      "Requirement already satisfied: multitasking>=0.0.7 in /Users/krishnakankipati/opt/anaconda3/lib/python3.7/site-packages (from yfinance) (0.0.9)\n",
      "Requirement already satisfied: certifi>=2017.4.17 in /Users/krishnakankipati/opt/anaconda3/lib/python3.7/site-packages (from requests>=2.20->yfinance) (2020.4.5.2)\n",
      "Requirement already satisfied: chardet<4,>=3.0.2 in /Users/krishnakankipati/opt/anaconda3/lib/python3.7/site-packages (from requests>=2.20->yfinance) (3.0.4)\n",
      "Requirement already satisfied: urllib3!=1.25.0,!=1.25.1,<1.26,>=1.21.1 in /Users/krishnakankipati/opt/anaconda3/lib/python3.7/site-packages (from requests>=2.20->yfinance) (1.25.7)\n",
      "Requirement already satisfied: idna<3,>=2.5 in /Users/krishnakankipati/opt/anaconda3/lib/python3.7/site-packages (from requests>=2.20->yfinance) (2.8)\n",
      "Requirement already satisfied: python-dateutil>=2.6.1 in /Users/krishnakankipati/opt/anaconda3/lib/python3.7/site-packages (from pandas>=0.24->yfinance) (2.8.1)\n",
      "Requirement already satisfied: pytz>=2017.2 in /Users/krishnakankipati/opt/anaconda3/lib/python3.7/site-packages (from pandas>=0.24->yfinance) (2019.3)\n",
      "Requirement already satisfied: six>=1.5 in /Users/krishnakankipati/opt/anaconda3/lib/python3.7/site-packages (from python-dateutil>=2.6.1->pandas>=0.24->yfinance) (1.13.0)\n",
      "Note: you may need to restart the kernel to use updated packages.\n"
     ]
    }
   ],
   "source": [
    "pip install yfinance"
   ]
  },
  {
   "cell_type": "code",
   "execution_count": 94,
   "metadata": {},
   "outputs": [],
   "source": [
    "# Importing the required packages.\n",
    "\n",
    "# pip install pandas\n",
    "# pip install numpy\n",
    "import pandas as pd # A python library used for data manipulation.\n",
    "import numpy as np  # A python library used for arithmetic operations on arrays.\n",
    "\n",
    "\n",
    "# Using Yahoo!Finance to get the market data.\n",
    "import yfinance as yf \n",
    "\n",
    "# Scikit-learn is used for machine learning and statistical modelling of the data.\n",
    "# pip install -U scikit-learn\n",
    "# Used to transform features by scaling each feature to a given range.\n",
    "from sklearn.preprocessing import MinMaxScaler \n",
    "\n",
    "# Machine Learning libraries to create plots and data visualizations.\n",
    "# Matplotlib is a low-level library with a Matlab like interface, \n",
    "# good for creating basic graphs like Line Chart, Bar Chart, Histogram, etc.\n",
    "import matplotlib.pyplot as plt \n",
    "# Seaborn - A python visualisation library based on Matplotlib.\n",
    "# Visuals that need around 20 lines of code using Matplotlib can be created\n",
    "# with seaborn by reducing the code to 5-fold.\n",
    "import seaborn as sns\n",
    "\n",
    "# Import scikit-learn metrics module to calculate the model accuracy.\n",
    "from sklearn import metrics \n",
    "\n",
    "# Ignoring all warnings.\n",
    "import warnings\n",
    "warnings.filterwarnings('ignore') "
   ]
  },
  {
   "cell_type": "code",
   "execution_count": 95,
   "metadata": {},
   "outputs": [
    {
     "name": "stdout",
     "output_type": "stream",
     "text": [
      "[*********************100%***********************]  1 of 1 completed\n"
     ]
    }
   ],
   "source": [
    "# Loading the data.\n",
    "# We are Using Apple's stock price data from 1st Jan, 2018 to 26th July, 2020.\n",
    "# \"AAPL\" is the stock symbol for Apple Computer, Inc.\n",
    "dataset = yf.download(\"AAPL\", start=\"2018-01-01\", end=\"2020-07-26\")"
   ]
  },
  {
   "cell_type": "markdown",
   "metadata": {},
   "source": [
    "### 2. Dataset Content"
   ]
  },
  {
   "cell_type": "code",
   "execution_count": 96,
   "metadata": {},
   "outputs": [
    {
     "data": {
      "text/html": [
       "<div>\n",
       "<style scoped>\n",
       "    .dataframe tbody tr th:only-of-type {\n",
       "        vertical-align: middle;\n",
       "    }\n",
       "\n",
       "    .dataframe tbody tr th {\n",
       "        vertical-align: top;\n",
       "    }\n",
       "\n",
       "    .dataframe thead th {\n",
       "        text-align: right;\n",
       "    }\n",
       "</style>\n",
       "<table border=\"1\" class=\"dataframe\">\n",
       "  <thead>\n",
       "    <tr style=\"text-align: right;\">\n",
       "      <th></th>\n",
       "      <th>Open</th>\n",
       "      <th>High</th>\n",
       "      <th>Low</th>\n",
       "      <th>Close</th>\n",
       "      <th>Adj Close</th>\n",
       "      <th>Volume</th>\n",
       "    </tr>\n",
       "    <tr>\n",
       "      <th>Date</th>\n",
       "      <th></th>\n",
       "      <th></th>\n",
       "      <th></th>\n",
       "      <th></th>\n",
       "      <th></th>\n",
       "      <th></th>\n",
       "    </tr>\n",
       "  </thead>\n",
       "  <tbody>\n",
       "    <tr>\n",
       "      <th>2018-01-02</th>\n",
       "      <td>170.160004</td>\n",
       "      <td>172.300003</td>\n",
       "      <td>169.259995</td>\n",
       "      <td>172.259995</td>\n",
       "      <td>166.353714</td>\n",
       "      <td>25555900</td>\n",
       "    </tr>\n",
       "    <tr>\n",
       "      <th>2018-01-03</th>\n",
       "      <td>172.529999</td>\n",
       "      <td>174.550003</td>\n",
       "      <td>171.960007</td>\n",
       "      <td>172.229996</td>\n",
       "      <td>166.324722</td>\n",
       "      <td>29517900</td>\n",
       "    </tr>\n",
       "    <tr>\n",
       "      <th>2018-01-04</th>\n",
       "      <td>172.539993</td>\n",
       "      <td>173.470001</td>\n",
       "      <td>172.080002</td>\n",
       "      <td>173.029999</td>\n",
       "      <td>167.097290</td>\n",
       "      <td>22434600</td>\n",
       "    </tr>\n",
       "    <tr>\n",
       "      <th>2018-01-05</th>\n",
       "      <td>173.440002</td>\n",
       "      <td>175.369995</td>\n",
       "      <td>173.050003</td>\n",
       "      <td>175.000000</td>\n",
       "      <td>168.999741</td>\n",
       "      <td>23660000</td>\n",
       "    </tr>\n",
       "    <tr>\n",
       "      <th>2018-01-08</th>\n",
       "      <td>174.350006</td>\n",
       "      <td>175.610001</td>\n",
       "      <td>173.929993</td>\n",
       "      <td>174.350006</td>\n",
       "      <td>168.372040</td>\n",
       "      <td>20567800</td>\n",
       "    </tr>\n",
       "  </tbody>\n",
       "</table>\n",
       "</div>"
      ],
      "text/plain": [
       "                  Open        High         Low       Close   Adj Close  \\\n",
       "Date                                                                     \n",
       "2018-01-02  170.160004  172.300003  169.259995  172.259995  166.353714   \n",
       "2018-01-03  172.529999  174.550003  171.960007  172.229996  166.324722   \n",
       "2018-01-04  172.539993  173.470001  172.080002  173.029999  167.097290   \n",
       "2018-01-05  173.440002  175.369995  173.050003  175.000000  168.999741   \n",
       "2018-01-08  174.350006  175.610001  173.929993  174.350006  168.372040   \n",
       "\n",
       "              Volume  \n",
       "Date                  \n",
       "2018-01-02  25555900  \n",
       "2018-01-03  29517900  \n",
       "2018-01-04  22434600  \n",
       "2018-01-05  23660000  \n",
       "2018-01-08  20567800  "
      ]
     },
     "execution_count": 96,
     "metadata": {},
     "output_type": "execute_result"
    }
   ],
   "source": [
    "# The stock price dataframe.\n",
    "# Previewing our data using the code below.\n",
    "# DataFrame.head() method is used to display the first 5 rows from the data.\n",
    "dataset.head()"
   ]
  },
  {
   "cell_type": "markdown",
   "metadata": {},
   "source": [
    "##### Understanding the Columns\n",
    "Open &emsp;   - Opening value of stock price <br>\n",
    "High &emsp;  - Highest value of the stock price in that day <br>\n",
    "Low  &emsp;   - Lowest value of the stock price in that day <br>\n",
    "Close &emsp;  - Closing value of the stock price in that day <br>\n",
    "Adj Close - Adjusted Closing values of the stock price after closing. <br>\n",
    "&emsp; &emsp; &emsp; &emsp; &ensp; Generally the stock value after the dividends or stock-splits or stock offerings are posted.<br>\n",
    "Volume  - Total number of shares traded in that day."
   ]
  },
  {
   "cell_type": "markdown",
   "metadata": {},
   "source": [
    "Adjusted closing price amends a stock's closing price to accurately reflect that stock's value after accounting for any corporate actions. <br>\n",
    "The closing price is the 'raw' price which is just the cash value of the last transacted price before the market closes. <br>\n",
    "Adjusted closing price factors in corporate actions such as stock splits, dividends / distributions and rights offerings.<br>Investopedia"
   ]
  },
  {
   "cell_type": "code",
   "execution_count": 97,
   "metadata": {},
   "outputs": [
    {
     "data": {
      "text/html": [
       "<div>\n",
       "<style scoped>\n",
       "    .dataframe tbody tr th:only-of-type {\n",
       "        vertical-align: middle;\n",
       "    }\n",
       "\n",
       "    .dataframe tbody tr th {\n",
       "        vertical-align: top;\n",
       "    }\n",
       "\n",
       "    .dataframe thead th {\n",
       "        text-align: right;\n",
       "    }\n",
       "</style>\n",
       "<table border=\"1\" class=\"dataframe\">\n",
       "  <thead>\n",
       "    <tr style=\"text-align: right;\">\n",
       "      <th></th>\n",
       "      <th>Open</th>\n",
       "      <th>High</th>\n",
       "      <th>Low</th>\n",
       "      <th>Close</th>\n",
       "      <th>Adj Close</th>\n",
       "      <th>Volume</th>\n",
       "    </tr>\n",
       "    <tr>\n",
       "      <th>Date</th>\n",
       "      <th></th>\n",
       "      <th></th>\n",
       "      <th></th>\n",
       "      <th></th>\n",
       "      <th></th>\n",
       "      <th></th>\n",
       "    </tr>\n",
       "  </thead>\n",
       "  <tbody>\n",
       "    <tr>\n",
       "      <th>2020-07-20</th>\n",
       "      <td>385.670013</td>\n",
       "      <td>394.000000</td>\n",
       "      <td>384.250000</td>\n",
       "      <td>393.429993</td>\n",
       "      <td>393.429993</td>\n",
       "      <td>22579500</td>\n",
       "    </tr>\n",
       "    <tr>\n",
       "      <th>2020-07-21</th>\n",
       "      <td>396.690002</td>\n",
       "      <td>397.000000</td>\n",
       "      <td>386.970001</td>\n",
       "      <td>388.000000</td>\n",
       "      <td>388.000000</td>\n",
       "      <td>25911500</td>\n",
       "    </tr>\n",
       "    <tr>\n",
       "      <th>2020-07-22</th>\n",
       "      <td>386.769989</td>\n",
       "      <td>391.899994</td>\n",
       "      <td>386.410004</td>\n",
       "      <td>389.089996</td>\n",
       "      <td>389.089996</td>\n",
       "      <td>22250400</td>\n",
       "    </tr>\n",
       "    <tr>\n",
       "      <th>2020-07-23</th>\n",
       "      <td>387.989990</td>\n",
       "      <td>388.309998</td>\n",
       "      <td>368.040009</td>\n",
       "      <td>371.380005</td>\n",
       "      <td>371.380005</td>\n",
       "      <td>49251100</td>\n",
       "    </tr>\n",
       "    <tr>\n",
       "      <th>2020-07-24</th>\n",
       "      <td>363.950012</td>\n",
       "      <td>371.880005</td>\n",
       "      <td>356.579987</td>\n",
       "      <td>370.459991</td>\n",
       "      <td>370.459991</td>\n",
       "      <td>46359700</td>\n",
       "    </tr>\n",
       "  </tbody>\n",
       "</table>\n",
       "</div>"
      ],
      "text/plain": [
       "                  Open        High         Low       Close   Adj Close  \\\n",
       "Date                                                                     \n",
       "2020-07-20  385.670013  394.000000  384.250000  393.429993  393.429993   \n",
       "2020-07-21  396.690002  397.000000  386.970001  388.000000  388.000000   \n",
       "2020-07-22  386.769989  391.899994  386.410004  389.089996  389.089996   \n",
       "2020-07-23  387.989990  388.309998  368.040009  371.380005  371.380005   \n",
       "2020-07-24  363.950012  371.880005  356.579987  370.459991  370.459991   \n",
       "\n",
       "              Volume  \n",
       "Date                  \n",
       "2020-07-20  22579500  \n",
       "2020-07-21  25911500  \n",
       "2020-07-22  22250400  \n",
       "2020-07-23  49251100  \n",
       "2020-07-24  46359700  "
      ]
     },
     "execution_count": 97,
     "metadata": {},
     "output_type": "execute_result"
    }
   ],
   "source": [
    "# Previewing our data.\n",
    "# DataFrame.tail() method is used to display the last 5 rows from the data.\n",
    "dataset.tail()"
   ]
  },
  {
   "cell_type": "markdown",
   "metadata": {},
   "source": [
    "We can see that the last entry is on 24th July, 2020. <br>\n",
    "The stock markets are closed on Saturdays' and Sundays' along with some public holidays.<br>\n",
    "25th and 26th of July are Saturday and Sunday respectively."
   ]
  },
  {
   "cell_type": "code",
   "execution_count": 98,
   "metadata": {},
   "outputs": [
    {
     "name": "stdout",
     "output_type": "stream",
     "text": [
      "<class 'pandas.core.frame.DataFrame'>\n",
      "DatetimeIndex: 645 entries, 2018-01-02 to 2020-07-24\n",
      "Data columns (total 6 columns):\n",
      " #   Column     Non-Null Count  Dtype  \n",
      "---  ------     --------------  -----  \n",
      " 0   Open       645 non-null    float64\n",
      " 1   High       645 non-null    float64\n",
      " 2   Low        645 non-null    float64\n",
      " 3   Close      645 non-null    float64\n",
      " 4   Adj Close  645 non-null    float64\n",
      " 5   Volume     645 non-null    int64  \n",
      "dtypes: float64(5), int64(1)\n",
      "memory usage: 35.3 KB\n"
     ]
    }
   ],
   "source": [
    "# Showing information about a DataFrame including the index dtype and columns, \n",
    "# non-null values and memory usage.\n",
    "dataset.info()\n",
    "# float64 - repreents a floating point number.\n",
    "# int64 - represent an integer number.\n",
    "# The Open, High, Low, Close and Adj Close are floating point numbers. \n",
    "# Volume isn't a floating point number, \n",
    "#  because fractional shares aren't available from the stock market."
   ]
  },
  {
   "cell_type": "code",
   "execution_count": 99,
   "metadata": {},
   "outputs": [
    {
     "data": {
      "text/html": [
       "<div>\n",
       "<style scoped>\n",
       "    .dataframe tbody tr th:only-of-type {\n",
       "        vertical-align: middle;\n",
       "    }\n",
       "\n",
       "    .dataframe tbody tr th {\n",
       "        vertical-align: top;\n",
       "    }\n",
       "\n",
       "    .dataframe thead th {\n",
       "        text-align: right;\n",
       "    }\n",
       "</style>\n",
       "<table border=\"1\" class=\"dataframe\">\n",
       "  <thead>\n",
       "    <tr style=\"text-align: right;\">\n",
       "      <th></th>\n",
       "      <th>Open</th>\n",
       "      <th>High</th>\n",
       "      <th>Low</th>\n",
       "      <th>Close</th>\n",
       "      <th>Adj Close</th>\n",
       "      <th>Volume</th>\n",
       "    </tr>\n",
       "  </thead>\n",
       "  <tbody>\n",
       "    <tr>\n",
       "      <th>count</th>\n",
       "      <td>645.000000</td>\n",
       "      <td>645.000000</td>\n",
       "      <td>645.000000</td>\n",
       "      <td>645.000000</td>\n",
       "      <td>645.000000</td>\n",
       "      <td>6.450000e+02</td>\n",
       "    </tr>\n",
       "    <tr>\n",
       "      <th>mean</th>\n",
       "      <td>223.210775</td>\n",
       "      <td>225.787721</td>\n",
       "      <td>220.977008</td>\n",
       "      <td>223.513550</td>\n",
       "      <td>220.546404</td>\n",
       "      <td>3.338395e+07</td>\n",
       "    </tr>\n",
       "    <tr>\n",
       "      <th>std</th>\n",
       "      <td>56.644627</td>\n",
       "      <td>57.544756</td>\n",
       "      <td>55.942842</td>\n",
       "      <td>56.876893</td>\n",
       "      <td>58.226482</td>\n",
       "      <td>1.512016e+07</td>\n",
       "    </tr>\n",
       "    <tr>\n",
       "      <th>min</th>\n",
       "      <td>143.979996</td>\n",
       "      <td>145.720001</td>\n",
       "      <td>142.000000</td>\n",
       "      <td>142.190002</td>\n",
       "      <td>139.376251</td>\n",
       "      <td>1.136200e+07</td>\n",
       "    </tr>\n",
       "    <tr>\n",
       "      <th>25%</th>\n",
       "      <td>180.199997</td>\n",
       "      <td>182.139999</td>\n",
       "      <td>178.160004</td>\n",
       "      <td>179.660004</td>\n",
       "      <td>176.204834</td>\n",
       "      <td>2.304670e+07</td>\n",
       "    </tr>\n",
       "    <tr>\n",
       "      <th>50%</th>\n",
       "      <td>204.399994</td>\n",
       "      <td>206.500000</td>\n",
       "      <td>203.320007</td>\n",
       "      <td>204.610001</td>\n",
       "      <td>201.871216</td>\n",
       "      <td>2.959680e+07</td>\n",
       "    </tr>\n",
       "    <tr>\n",
       "      <th>75%</th>\n",
       "      <td>257.329987</td>\n",
       "      <td>262.470001</td>\n",
       "      <td>256.290009</td>\n",
       "      <td>259.429993</td>\n",
       "      <td>258.136963</td>\n",
       "      <td>3.928130e+07</td>\n",
       "    </tr>\n",
       "    <tr>\n",
       "      <th>max</th>\n",
       "      <td>396.690002</td>\n",
       "      <td>399.820007</td>\n",
       "      <td>386.970001</td>\n",
       "      <td>393.429993</td>\n",
       "      <td>393.429993</td>\n",
       "      <td>1.067212e+08</td>\n",
       "    </tr>\n",
       "  </tbody>\n",
       "</table>\n",
       "</div>"
      ],
      "text/plain": [
       "             Open        High         Low       Close   Adj Close  \\\n",
       "count  645.000000  645.000000  645.000000  645.000000  645.000000   \n",
       "mean   223.210775  225.787721  220.977008  223.513550  220.546404   \n",
       "std     56.644627   57.544756   55.942842   56.876893   58.226482   \n",
       "min    143.979996  145.720001  142.000000  142.190002  139.376251   \n",
       "25%    180.199997  182.139999  178.160004  179.660004  176.204834   \n",
       "50%    204.399994  206.500000  203.320007  204.610001  201.871216   \n",
       "75%    257.329987  262.470001  256.290009  259.429993  258.136963   \n",
       "max    396.690002  399.820007  386.970001  393.429993  393.429993   \n",
       "\n",
       "             Volume  \n",
       "count  6.450000e+02  \n",
       "mean   3.338395e+07  \n",
       "std    1.512016e+07  \n",
       "min    1.136200e+07  \n",
       "25%    2.304670e+07  \n",
       "50%    2.959680e+07  \n",
       "75%    3.928130e+07  \n",
       "max    1.067212e+08  "
      ]
     },
     "execution_count": 99,
     "metadata": {},
     "output_type": "execute_result"
    }
   ],
   "source": [
    "#The describe() method provides the descriptive statistics of the dataset.\n",
    "dataset.describe()\n",
    "# 'count' tells the number of non-NA/null observations.\n",
    "# 'max' shows the maximum of the values in the object.\n",
    "# 'min' shows the minimum of the values in the object.\n",
    "# 'mean' shows the Mean of the values.\n",
    "# 'std' shows the Standard deviation of the observations.\n",
    "# Standard deviation is a measure of amount of variation of a set of values,\n",
    "# it tells how the spread out the data is.\n",
    "# A low standard deviation means that most of the numbers are close to the average (mean)\n",
    "# A high standard deviation means that the numbers are more spread out\n",
    "# Percentile- a measure used in statistics indicating the value\n",
    "# below which a given percentage of observations in a group of observations falls.\n",
    "# Percentile provides where the value actually lies in the data.\n",
    "# 25% shows that 25 percent of the data lies below that number.\n",
    "# 50% shows that 50 percent of the data lies below that number.\n",
    "# 75% shows that 75 percent of the data lies below that number.\n",
    "\n",
    "# Consider Open.\n",
    "# prices from previous close to till 180.199 consitutes to 25% of the data\n",
    "# prices till 204.399 constitutes to 50% of the data and,\n",
    "# prices till 257.329 constitutes to 75% of the data.\n",
    "# The mean value 223.21 lies below 75% of the data.\n",
    "# The min value 143.979 lies below 25% of the data.\n",
    "# The max value is about 396.690 lies above 75% of the data."
   ]
  },
  {
   "cell_type": "markdown",
   "metadata": {},
   "source": [
    "### 3. Preprocessing the Data"
   ]
  },
  {
   "cell_type": "markdown",
   "metadata": {},
   "source": [
    "Data preprocessing plays a crucial role while building a model. The data may not be in the right format or the initial data may not fit the model. <br>\n",
    "Sometimes we need to modify the data as per our requirements."
   ]
  },
  {
   "cell_type": "markdown",
   "metadata": {},
   "source": [
    "We discussed about the term **Adjusted Close** previously.<br>\n",
    "This Adjusted Close makes a profound impact on the historical prices(here Open, High and Low prices). <br>To compensate this, we need to adjust the historical prices by a factor. <br>\n",
    "<br>\n",
    "The amount of the dividend is subtracted from the prior day’s close price; that result is then divided by the prior day’s close price. Historical prices are subsequently multiplied by this factor. <br>\n",
    "<br>\n",
    "This factor is termed as *Adjustment Factor*. <br>\n",
    "**Adjustment Factor = (Close - Dividend)/Close** <br>\n",
    "Which is nothing but Adjusted Close Price divided by Close Price of the market\n",
    "<br>"
   ]
  },
  {
   "cell_type": "code",
   "execution_count": 100,
   "metadata": {},
   "outputs": [],
   "source": [
    "# Calculating Adjustment Factor\n",
    "dataset['AdjustmentFactor'] = dataset['Adj Close']/dataset['Close']\n",
    "\n",
    "# Adjusting Open, High and Low values.\n",
    "dataset['Adj Open'] = dataset['Open'] * dataset['AdjustmentFactor']\n",
    "dataset['Adj High'] = dataset['High'] * dataset['AdjustmentFactor']\n",
    "dataset['Adj Low'] = dataset['Low'] * dataset['AdjustmentFactor']"
   ]
  },
  {
   "cell_type": "code",
   "execution_count": 101,
   "metadata": {},
   "outputs": [
    {
     "data": {
      "image/png": "[encoded data removed]",
      "text/plain": [
       "<Figure size 1152x576 with 1 Axes>"
      ]
     },
     "metadata": {
      "needs_background": "light"
     },
     "output_type": "display_data"
    }
   ],
   "source": [
    "# Exploring the Open Price and Adjusted Open Price.\n",
    "# We will look how the Open price and Adjusted Open Price differ by plotting the graph.\n",
    "# Using Matplotlib library to plot the graph.\n",
    "# figure() method is used to create a figure object.\n",
    "# It is explicitly used to modify the size of a figure or add multiple axes in a figure.\n",
    "# The parameter figsize takes float values, which denotes the Width and Height in inches.\n",
    "# plot() method is used to plot data on x axis and y axis.\n",
    "# Here dataset.index i.e Date is taken on x axis and dataset['Open'] is taken on y axis.\n",
    "# We defined two plots one for 'Open' and one for 'Adj Open', to plot in a single figure.\n",
    "# The legend() method is used to describe the elements of the graph.\n",
    "# The show() method is used to display a figure.\n",
    "plt.figure(figsize=(16,8))\n",
    "plt.plot(dataset.index, dataset['Open'], label='Open Price')\n",
    "plt.plot(dataset.index, dataset['Adj Open'], label='Adjusted Open Price')\n",
    "plt.legend()\n",
    "plt.show()"
   ]
  },
  {
   "cell_type": "markdown",
   "metadata": {},
   "source": [
    "### 4. Feature Extraction"
   ]
  },
  {
   "cell_type": "markdown",
   "metadata": {},
   "source": [
    "Feature Extraction is used to reduce the dimensionality of data and increase the accuracy of the model. <br><br>\n",
    "\n",
    "We will be using the following features for classification\n",
    "    1. Mean value of Adjusted Open, High and Low. <br>\n",
    "    2. Adjusted Close value. <br>\n",
    "    3. Returns of the day before.\n",
    "\n",
    "We can calculate the mean value of adjusted 'Open', 'High' and 'Low' prices and use this mean as an input to the model.<br> \n",
    "So, why the mean? In general the tendency of a variable i.e stock price to converge on an average value over time is called Mean Reversion. This is used to predict upward or downward trend of a market. <br>\n",
    "\n",
    "Returns of the day - The daily returns measures the value change in a stock's price as a percentage of the previous day's closing price. A positive return means the stock has grown in value, while a negative return means it has lost value."
   ]
  },
  {
   "cell_type": "code",
   "execution_count": 102,
   "metadata": {},
   "outputs": [],
   "source": [
    "# 1. Mean of Adjusted Open, High and Low.\n",
    "OHL_mean = dataset[['Adj Open','Adj High','Adj Low']].mean(axis = 1)"
   ]
  },
  {
   "cell_type": "code",
   "execution_count": 103,
   "metadata": {},
   "outputs": [],
   "source": [
    "# 2. Adjusted Close.\n",
    "close_value = dataset[[\"Adj Close\"]]"
   ]
  },
  {
   "cell_type": "code",
   "execution_count": 104,
   "metadata": {},
   "outputs": [],
   "source": [
    "# 3. Returns of the day before.\n",
    "# Calculated using the Percentage Change method,\n",
    "# i.e [(Present value - Previous value)/Present Value] * 100.\n",
    "returns = dataset[['Adj Close']].pct_change()"
   ]
  },
  {
   "cell_type": "code",
   "execution_count": 105,
   "metadata": {},
   "outputs": [],
   "source": [
    "# Concatenating the above extracted features using pandas.concat() method.\n",
    "# The parameter axis=1 tells to concatenate along columns.\n",
    "new_data = pd.concat([OHL_mean, close_value, returns], axis=1)\n",
    "# Setting the column names.\n",
    "new_data.columns = ['OHL', 'Adj Close', 'Returns']"
   ]
  },
  {
   "cell_type": "code",
   "execution_count": 106,
   "metadata": {},
   "outputs": [
    {
     "data": {
      "text/plain": [
       "pandas.core.frame.DataFrame"
      ]
     },
     "execution_count": 106,
     "metadata": {},
     "output_type": "execute_result"
    }
   ],
   "source": [
    "# Type of the data.\n",
    "type(new_data)\n",
    "# 'new_data' is a dataframe object."
   ]
  },
  {
   "cell_type": "code",
   "execution_count": 107,
   "metadata": {},
   "outputs": [
    {
     "data": {
      "text/html": [
       "<div>\n",
       "<style scoped>\n",
       "    .dataframe tbody tr th:only-of-type {\n",
       "        vertical-align: middle;\n",
       "    }\n",
       "\n",
       "    .dataframe tbody tr th {\n",
       "        vertical-align: top;\n",
       "    }\n",
       "\n",
       "    .dataframe thead th {\n",
       "        text-align: right;\n",
       "    }\n",
       "</style>\n",
       "<table border=\"1\" class=\"dataframe\">\n",
       "  <thead>\n",
       "    <tr style=\"text-align: right;\">\n",
       "      <th></th>\n",
       "      <th>OHL</th>\n",
       "      <th>Adj Close</th>\n",
       "      <th>Returns</th>\n",
       "    </tr>\n",
       "    <tr>\n",
       "      <th>Date</th>\n",
       "      <th></th>\n",
       "      <th></th>\n",
       "      <th></th>\n",
       "    </tr>\n",
       "  </thead>\n",
       "  <tbody>\n",
       "    <tr>\n",
       "      <th>2018-01-02</th>\n",
       "      <td>164.724884</td>\n",
       "      <td>166.353714</td>\n",
       "      <td>NaN</td>\n",
       "    </tr>\n",
       "    <tr>\n",
       "      <th>2018-01-03</th>\n",
       "      <td>167.081204</td>\n",
       "      <td>166.324722</td>\n",
       "      <td>-0.000174</td>\n",
       "    </tr>\n",
       "    <tr>\n",
       "      <th>2018-01-04</th>\n",
       "      <td>166.775386</td>\n",
       "      <td>167.097290</td>\n",
       "      <td>0.004645</td>\n",
       "    </tr>\n",
       "    <tr>\n",
       "      <th>2018-01-05</th>\n",
       "      <td>167.988961</td>\n",
       "      <td>168.999741</td>\n",
       "      <td>0.011385</td>\n",
       "    </tr>\n",
       "    <tr>\n",
       "      <th>2018-01-08</th>\n",
       "      <td>168.642433</td>\n",
       "      <td>168.372040</td>\n",
       "      <td>-0.003714</td>\n",
       "    </tr>\n",
       "  </tbody>\n",
       "</table>\n",
       "</div>"
      ],
      "text/plain": [
       "                   OHL   Adj Close   Returns\n",
       "Date                                        \n",
       "2018-01-02  164.724884  166.353714       NaN\n",
       "2018-01-03  167.081204  166.324722 -0.000174\n",
       "2018-01-04  166.775386  167.097290  0.004645\n",
       "2018-01-05  167.988961  168.999741  0.011385\n",
       "2018-01-08  168.642433  168.372040 -0.003714"
      ]
     },
     "execution_count": 107,
     "metadata": {},
     "output_type": "execute_result"
    }
   ],
   "source": [
    "# Previewing the newly created data using the code below.\n",
    "new_data.head()"
   ]
  },
  {
   "cell_type": "code",
   "execution_count": 108,
   "metadata": {},
   "outputs": [
    {
     "data": {
      "text/html": [
       "<div>\n",
       "<style scoped>\n",
       "    .dataframe tbody tr th:only-of-type {\n",
       "        vertical-align: middle;\n",
       "    }\n",
       "\n",
       "    .dataframe tbody tr th {\n",
       "        vertical-align: top;\n",
       "    }\n",
       "\n",
       "    .dataframe thead th {\n",
       "        text-align: right;\n",
       "    }\n",
       "</style>\n",
       "<table border=\"1\" class=\"dataframe\">\n",
       "  <thead>\n",
       "    <tr style=\"text-align: right;\">\n",
       "      <th></th>\n",
       "      <th>OHL</th>\n",
       "      <th>Adj Close</th>\n",
       "      <th>Returns</th>\n",
       "    </tr>\n",
       "  </thead>\n",
       "  <tbody>\n",
       "    <tr>\n",
       "      <th>count</th>\n",
       "      <td>645.000000</td>\n",
       "      <td>645.000000</td>\n",
       "      <td>644.000000</td>\n",
       "    </tr>\n",
       "    <tr>\n",
       "      <th>mean</th>\n",
       "      <td>220.359080</td>\n",
       "      <td>220.546404</td>\n",
       "      <td>0.001473</td>\n",
       "    </tr>\n",
       "    <tr>\n",
       "      <th>std</th>\n",
       "      <td>58.038303</td>\n",
       "      <td>58.226482</td>\n",
       "      <td>0.021362</td>\n",
       "    </tr>\n",
       "    <tr>\n",
       "      <th>min</th>\n",
       "      <td>141.052409</td>\n",
       "      <td>139.376251</td>\n",
       "      <td>-0.128647</td>\n",
       "    </tr>\n",
       "    <tr>\n",
       "      <th>25%</th>\n",
       "      <td>176.259799</td>\n",
       "      <td>176.204834</td>\n",
       "      <td>-0.007667</td>\n",
       "    </tr>\n",
       "    <tr>\n",
       "      <th>50%</th>\n",
       "      <td>202.117826</td>\n",
       "      <td>201.871216</td>\n",
       "      <td>0.001649</td>\n",
       "    </tr>\n",
       "    <tr>\n",
       "      <th>75%</th>\n",
       "      <td>257.283544</td>\n",
       "      <td>258.136963</td>\n",
       "      <td>0.011424</td>\n",
       "    </tr>\n",
       "    <tr>\n",
       "      <th>max</th>\n",
       "      <td>393.553335</td>\n",
       "      <td>393.429993</td>\n",
       "      <td>0.119808</td>\n",
       "    </tr>\n",
       "  </tbody>\n",
       "</table>\n",
       "</div>"
      ],
      "text/plain": [
       "              OHL   Adj Close     Returns\n",
       "count  645.000000  645.000000  644.000000\n",
       "mean   220.359080  220.546404    0.001473\n",
       "std     58.038303   58.226482    0.021362\n",
       "min    141.052409  139.376251   -0.128647\n",
       "25%    176.259799  176.204834   -0.007667\n",
       "50%    202.117826  201.871216    0.001649\n",
       "75%    257.283544  258.136963    0.011424\n",
       "max    393.553335  393.429993    0.119808"
      ]
     },
     "execution_count": 108,
     "metadata": {},
     "output_type": "execute_result"
    }
   ],
   "source": [
    "# Descriptive statistics of the 'new_data' dataset.\n",
    "new_data.describe()"
   ]
  },
  {
   "cell_type": "code",
   "execution_count": 109,
   "metadata": {},
   "outputs": [
    {
     "data": {
      "text/plain": [
       "numpy.ndarray"
      ]
     },
     "execution_count": 109,
     "metadata": {},
     "output_type": "execute_result"
    }
   ],
   "source": [
    "# Converting 'new_data' dataframe into a numpy array for easier data manipulation.\n",
    "new_data = new_data.to_numpy()\n",
    "# To find out the type of data.\n",
    "type(new_data)\n",
    "# numpy.ndarray represents a numpy array of n dimensions."
   ]
  },
  {
   "cell_type": "code",
   "execution_count": 110,
   "metadata": {},
   "outputs": [
    {
     "data": {
      "text/plain": [
       "(645, 3)"
      ]
     },
     "execution_count": 110,
     "metadata": {},
     "output_type": "execute_result"
    }
   ],
   "source": [
    "# Shape of 'new_data'.\n",
    "new_data.shape\n",
    "# (645, 3) represents tuple of 3 dimensional array of size 645."
   ]
  },
  {
   "cell_type": "code",
   "execution_count": 111,
   "metadata": {},
   "outputs": [],
   "source": [
    "# The above data doesn't have a target variable.\n",
    "# We need a target variable to train the model.\n",
    "# Since binary classification consists of 0s and 1s as target variables...\n",
    "# We must create a traget varible with 0s and 1s based on the Returns.\n",
    "# Numpy.sign() method is used to return an element-wise indication of the sign of a number.  \n",
    "# -1 if Returns <0,\n",
    "# 0 if Returns = 0,\n",
    "# 1 if Returns >= 1.\n",
    "# new_data[,:2] - Selecting the third column i.e 'Returns'.\n",
    "# We are adding 1 to convert negative 1s to 0s and dividing by 2.\n",
    "target_var = (np.sign(new_data[:,2])+1)/2"
   ]
  },
  {
   "cell_type": "code",
   "execution_count": 112,
   "metadata": {},
   "outputs": [
    {
     "data": {
      "text/plain": [
       "(645,)"
      ]
     },
     "execution_count": 112,
     "metadata": {},
     "output_type": "execute_result"
    }
   ],
   "source": [
    "# Shape of the target variables.\n",
    "target_var.shape\n",
    "# (645,) represents a tuple of 645 entries | A one dimensional array of size 645."
   ]
  },
  {
   "cell_type": "code",
   "execution_count": 113,
   "metadata": {},
   "outputs": [
    {
     "data": {
      "text/plain": [
       "numpy.ndarray"
      ]
     },
     "execution_count": 113,
     "metadata": {},
     "output_type": "execute_result"
    }
   ],
   "source": [
    "# To find the type of target_var.\n",
    "type(target_var)"
   ]
  },
  {
   "cell_type": "markdown",
   "metadata": {},
   "source": [
    "### 5. Feature Scaling"
   ]
  },
  {
   "cell_type": "code",
   "execution_count": 114,
   "metadata": {},
   "outputs": [],
   "source": [
    "# If you observe the newly created data 'new_data'.\n",
    "# The OHL values are in between 141 to 394.\n",
    "# The Adjusted Close values are in between 139 to 394.\n",
    "# The Returns values are in betwen -1.3 to 1.2.\n",
    "# This shows the data is not distributed normally.\n",
    "# When the model is training it is biased more towards OHL values...\n",
    "# Becaue of the higher range in OHL value the model thinks it as an important feature.\n",
    "# The model neglects or give less importance to 'Adj Close' and 'Returns' features.\n",
    "# To overcome this problem we need to scale the data into a specific range.\n",
    "# We are using MinMaxScaler() method from sklear.preprocessing library to scale the data\n",
    "# Defining the min-max scalar for scaling the features into a range of 0 to 1.\n",
    "scaler = MinMaxScaler(feature_range=(0, 1))\n",
    "\n",
    "# Scaling the features.\n",
    "new_data = scaler.fit_transform(new_data)\n",
    "# Look the target variable isn't scaled. We focused on the independent feautures here.\n",
    "# The target variable consist either a 1 or a 0."
   ]
  },
  {
   "cell_type": "code",
   "execution_count": 115,
   "metadata": {},
   "outputs": [],
   "source": [
    "# Concatenating the features or independent variables and target variables.\n",
    "# Since both 'new_data' and 'target_var' are numpy arrays we use numpy.concatenate() method.\n",
    "# 'axis=1' parameter represents to concatenate along the columns.\n",
    "data = np.concatenate([new_data, target_var.reshape(-1, 1)], axis=1)"
   ]
  },
  {
   "cell_type": "markdown",
   "metadata": {},
   "source": [
    "The numpy.reshape method is used to change the shape of a numpy array without changing its data. <br> <br>\n",
    "The reshape() function when called on an array takes one argument which is a tuple defining the new shape of the array. We cannot pass in any tuple of numbers; the reshape must evenly reorganize the data in the array. <br> <br>\n",
    "The shape of target_var is (645,) i.e 645 entries of 1D array.<br>\n",
    "np.reshape(-1,1) tells to reshape the array into 2D array of size 645. <br>\n",
    "i.e reshape with (-1, 1) represents that we have provided column as 1 but rows as unknown.\n"
   ]
  },
  {
   "cell_type": "code",
   "execution_count": 116,
   "metadata": {},
   "outputs": [
    {
     "data": {
      "text/plain": [
       "(645, 4)"
      ]
     },
     "execution_count": 116,
     "metadata": {},
     "output_type": "execute_result"
    }
   ],
   "source": [
    "# Shape of the data.\n",
    "data.shape"
   ]
  },
  {
   "cell_type": "code",
   "execution_count": 117,
   "metadata": {},
   "outputs": [
    {
     "data": {
      "text/plain": [
       "(644, 4)"
      ]
     },
     "execution_count": 117,
     "metadata": {},
     "output_type": "execute_result"
    }
   ],
   "source": [
    "# Remove all rows with either feature or label null.\n",
    "# np.isnan() test element-wise for NaN and return result as a boolean array. \n",
    "# any(axis=1) method is used to check for NaN along a column.\n",
    "data = data[~np.isnan(data).any(axis=1)] # selecting the data free of NaN values.\n",
    "\n",
    "data.shape"
   ]
  },
  {
   "cell_type": "markdown",
   "metadata": {},
   "source": [
    "This shows that a single NaN value is present in the dataset and it is removed."
   ]
  },
  {
   "cell_type": "code",
   "execution_count": 118,
   "metadata": {},
   "outputs": [],
   "source": [
    "# Splitting the data into train and test subsets.\n",
    "# train subset is used for training the model.\n",
    "# test subset is used for testing the model.\n",
    "# 75% of the data is used to train.\n",
    "# 25% of the data is will be tested for model accuracy.\n",
    "# data.shape[0] provides the number of entries in the data. Here the value is 644.\n",
    "# int() method is used to change the data type of an object to an integer type.\n",
    "train_data_length = int(data.shape[0]*0.75)\n",
    "\n",
    "# Splitting 75% of data into train and remainning 25% into test subsets.\n",
    "# data[0:train_data_length] selects the first 75% rows of the data,\n",
    "# data[train_data_length:] selects the remaining 25% rows of the data.\n",
    "train_data, test_data = data[0:train_data_length], data[train_data_length:]\n",
    "\n",
    "# xtrain is the training group with independent features i.e 'OHL', 'Adj Close' & 'Returns'.\n",
    "# ytrain is the target variables for training group.\n",
    "# xtest is the testing group with independent features i.e 'OHL', 'Adj Close' & 'Returns'.\n",
    "# ytest is the target variables for testing group.\n",
    "xtrain = train_data[:,:3]\n",
    "ytrain = train_data[:,3]\n",
    "xtest = test_data[:,:3]\n",
    "ytest = test_data[:,3]"
   ]
  },
  {
   "cell_type": "code",
   "execution_count": 119,
   "metadata": {},
   "outputs": [
    {
     "data": {
      "text/plain": [
       "(483, 3)"
      ]
     },
     "execution_count": 119,
     "metadata": {},
     "output_type": "execute_result"
    }
   ],
   "source": [
    "# shape of xtrain.\n",
    "xtrain.shape"
   ]
  },
  {
   "cell_type": "code",
   "execution_count": 120,
   "metadata": {},
   "outputs": [
    {
     "data": {
      "text/plain": [
       "(161, 3)"
      ]
     },
     "execution_count": 120,
     "metadata": {},
     "output_type": "execute_result"
    }
   ],
   "source": [
    "# shape of xtest.\n",
    "xtest.shape"
   ]
  },
  {
   "cell_type": "markdown",
   "metadata": {},
   "source": [
    "### 6. Model Building"
   ]
  },
  {
   "cell_type": "markdown",
   "metadata": {},
   "source": [
    "We are using LSTM to predict the Stock Market trend. <br> <br>\n",
    "**LSTM - Long Short-Term Memory cell** <br>\n",
    "LSTM is a Recurrent Neural Network architecture generally used when dealing with Sequence Prediction problems or Time Series problems. <br><br>\n",
    "LSTM has a property of selectively remembering patterns for ling durations of time. This helps to deal with a wide range of problems; from predicting sales to finding patterns in stock markets, from recognizing your speech to translating languages and predicting your next word on your mobile's keyboard.\n",
    "- RNN often face a problem with Gradient Descent. If we backpropogate more than 9 or 10 timesteps, we can encounter with Vanishing Gradient.\n",
    "- To address this issue LSTMs are being used."
   ]
  },
  {
   "cell_type": "code",
   "execution_count": 121,
   "metadata": {},
   "outputs": [],
   "source": [
    "# Importing libraries to create a LSTM model.\n",
    "# keras is a neural network library built in Python.\n",
    "# keras.model is a data structure representing a neural network model.\n",
    "# keras.model contains two types of models, Sequential model and Functional API.\n",
    "# Sequential model is a linear stack of layers.\n",
    "# Functional API model has branched layers.\n",
    "# keras.layers is used to build the layers of Neural Network.\n",
    "# The layers include Dense, Activation and Dropout.\n",
    "# Dense layers consists of neurons or nodes which perfoms an operation on inputs and produces an output.\n",
    "# The operation perfomed by Dense layer: output = activation(dot(input, weights) + bias).\n",
    "# Activation: Applies an activation function to an output.\n",
    "# Dropout: randomly set a fraction of input units to 0 at each training update to avoid overfitting.\n",
    "# LSTM: A recurrent layer.\n",
    "from keras.models import Sequential\n",
    "from keras.layers import Dense, Activation, Dropout\n",
    "from keras.layers import LSTM\n",
    "\n",
    "# Number of features.\n",
    "# Our data is having 3 independent features: 'OHL', 'Adj Close' & 'Returns'.\n",
    "features = 3\n",
    " \n",
    "# Creating a Sequential model.\n",
    "classifier = Sequential()\n",
    "\n",
    "# Add LSTM later with 50 units and input size (1,3).\n",
    "# units - the number of nodes in the hidden layers within the LSTM cell.\n",
    "# return_sequences - when set to true it return the outputs from the LSTM cell.\n",
    "# When training the output at each time step can be used to compare with very next value to find the errors.\n",
    "# input_shape - LSTM requires a 3 dimensional array as an input.\n",
    "# input_shape - (batch_size, time_steps, features).\n",
    "# batch_size: number of samples.\n",
    "# time_steps: number of time dependent steps in a single data point.\n",
    "# features: number of independent variables.\n",
    "\n",
    "# First layer is an LSTM layer with 50 memory units and it returns sequences. \n",
    "# This is done to ensure that the next LSTM layer receives sequences and \n",
    "# not just randomly scattered data.\n",
    "classifier.add(LSTM(units = 50, return_sequences = True, input_shape = (1, features)))\n",
    "\n",
    "# Add dropout for regularisation. \n",
    "# A dropout layer is applied after each LSTM layer to avoid overfitting of the model. \n",
    "classifier.add(Dropout(0.2))\n",
    "\n",
    "# Add another LSTM unit.\n",
    "classifier.add(LSTM(units = 50, return_sequences = True))\n",
    "# Add dropout for regularisation.\n",
    "classifier.add(Dropout(0.2))\n",
    "\n",
    "# Add another LSTM unit.\n",
    "classifier.add(LSTM(units = 50, return_sequences = True))\n",
    "# Add dropout for regularisation.\n",
    "classifier.add(Dropout(0.2))\n",
    "\n",
    "# Add another LSTM unit.\n",
    "classifier.add(LSTM(units = 50))\n",
    "# Add dropout for regularisation.\n",
    "classifier.add(Dropout(0.2))\n",
    "\n",
    "# Add fully connected layer with one output as a prediction.\n",
    "classifier.add(Dense(units = 1))\n",
    " \n",
    "# The model is created and configuring the model with losses and metrics.\n",
    "# Compile the model - set loss function, optimisation algorithm and evaluation metric.\n",
    "# loss function: a method to evaluate how well the model is performing,\n",
    "# 'mean_squared_error': measure the average of the squares of errors,\n",
    "# optimisation algoritm: used to reduce the loss value by optimising the model,\n",
    "# 'adam' optimizer: an adaptive learning rate optimization algorithm for Deep Learning models,\n",
    "# metrics: used to judge the model performance. Similar to loss function,\n",
    "# the metric results are not used when training the model unlike loss function,\n",
    "# 'accuracy' used to compute the accuracy rate between predicted values and true values.\n",
    "# Accuracy = (number of correctly classified points/ number of total points).\n",
    "classifier.compile(loss='mean_squared_error', optimizer='adam',metrics=['accuracy'])"
   ]
  },
  {
   "cell_type": "markdown",
   "metadata": {},
   "source": [
    "Since LSTM layer expects the input to be in the form (batch_size, time steps, features), we need to reshape the input data. <br>\n",
    "xtrain.shape = (483,3) <br>\n",
    "xtest.shape = (161, 3) <br>\n",
    "\n",
    "To reshape a 2D numpy array to 3D numpy array we can use the following notation:<br>\n",
    "np.reshape(data, (a,b,c)) <br>\n",
    "To match the requirements of the LSTM model we will use the following notation: <br>\n",
    "np.reshape(data, (data.shape[0], 1, data.shape[1])"
   ]
  },
  {
   "cell_type": "code",
   "execution_count": 122,
   "metadata": {},
   "outputs": [],
   "source": [
    "# Reshaping the data so as to fit in the model.\n",
    "xtrain = np.reshape(xtrain, (xtrain.shape[0], 1, xtrain.shape[1]))\n",
    "xtest = np.reshape(xtest, (xtest.shape[0], 1, xtest.shape[1]))"
   ]
  },
  {
   "cell_type": "code",
   "execution_count": 123,
   "metadata": {},
   "outputs": [
    {
     "data": {
      "text/plain": [
       "(483, 1, 3)"
      ]
     },
     "execution_count": 123,
     "metadata": {},
     "output_type": "execute_result"
    }
   ],
   "source": [
    "# xtrain shape.\n",
    "xtrain.shape"
   ]
  },
  {
   "cell_type": "code",
   "execution_count": 124,
   "metadata": {},
   "outputs": [
    {
     "data": {
      "text/plain": [
       "(161, 1, 3)"
      ]
     },
     "execution_count": 124,
     "metadata": {},
     "output_type": "execute_result"
    }
   ],
   "source": [
    "# xtest shape.\n",
    "xtest.shape"
   ]
  },
  {
   "cell_type": "markdown",
   "metadata": {},
   "source": [
    "##### Fitting the model"
   ]
  },
  {
   "cell_type": "code",
   "execution_count": 128,
   "metadata": {},
   "outputs": [
    {
     "name": "stdout",
     "output_type": "stream",
     "text": [
      "Train on 362 samples, validate on 121 samples\n",
      "Epoch 1/25\n",
      "362/362 [==============================] - 4s 12ms/step - loss: 0.0857 - accuracy: 0.8757 - val_loss: 0.0582 - val_accuracy: 0.9091\n",
      "Epoch 2/25\n",
      "362/362 [==============================] - 5s 13ms/step - loss: 0.0704 - accuracy: 0.8950 - val_loss: 0.1338 - val_accuracy: 0.7934\n",
      "Epoch 3/25\n",
      "362/362 [==============================] - 5s 15ms/step - loss: 0.0689 - accuracy: 0.9061 - val_loss: 0.0435 - val_accuracy: 0.9587\n",
      "Epoch 4/25\n",
      "362/362 [==============================] - 5s 13ms/step - loss: 0.0518 - accuracy: 0.9309 - val_loss: 0.0304 - val_accuracy: 0.9669\n",
      "Epoch 5/25\n",
      "362/362 [==============================] - 5s 13ms/step - loss: 0.0528 - accuracy: 0.9392 - val_loss: 0.1736 - val_accuracy: 0.7686\n",
      "Epoch 6/25\n",
      "362/362 [==============================] - 5s 14ms/step - loss: 0.0559 - accuracy: 0.9282 - val_loss: 0.0634 - val_accuracy: 0.8926\n",
      "Epoch 7/25\n",
      "362/362 [==============================] - 5s 15ms/step - loss: 0.0529 - accuracy: 0.9337 - val_loss: 0.0623 - val_accuracy: 0.8843\n",
      "Epoch 8/25\n",
      "362/362 [==============================] - 5s 12ms/step - loss: 0.0524 - accuracy: 0.9420 - val_loss: 0.0291 - val_accuracy: 0.9669\n",
      "Epoch 9/25\n",
      "362/362 [==============================] - 5s 13ms/step - loss: 0.0529 - accuracy: 0.9420 - val_loss: 0.0237 - val_accuracy: 0.9752\n",
      "Epoch 10/25\n",
      "362/362 [==============================] - 5s 13ms/step - loss: 0.0564 - accuracy: 0.9199 - val_loss: 0.0227 - val_accuracy: 0.9835\n",
      "Epoch 11/25\n",
      "362/362 [==============================] - 5s 14ms/step - loss: 0.0666 - accuracy: 0.9116 - val_loss: 0.0422 - val_accuracy: 0.9669\n",
      "Epoch 12/25\n",
      "362/362 [==============================] - 4s 12ms/step - loss: 0.0438 - accuracy: 0.9475 - val_loss: 0.0262 - val_accuracy: 0.9752\n",
      "Epoch 13/25\n",
      "362/362 [==============================] - 4s 12ms/step - loss: 0.0661 - accuracy: 0.9061 - val_loss: 0.1442 - val_accuracy: 0.8017\n",
      "Epoch 14/25\n",
      "362/362 [==============================] - 4s 12ms/step - loss: 0.0490 - accuracy: 0.9365 - val_loss: 0.0555 - val_accuracy: 0.8843\n",
      "Epoch 15/25\n",
      "362/362 [==============================] - 5s 13ms/step - loss: 0.0398 - accuracy: 0.9503 - val_loss: 0.0436 - val_accuracy: 0.9339\n",
      "Epoch 16/25\n",
      "362/362 [==============================] - 5s 13ms/step - loss: 0.0497 - accuracy: 0.9365 - val_loss: 0.0330 - val_accuracy: 0.9587\n",
      "Epoch 17/25\n",
      "362/362 [==============================] - 5s 13ms/step - loss: 0.0525 - accuracy: 0.9309 - val_loss: 0.1058 - val_accuracy: 0.8512\n",
      "Epoch 18/25\n",
      "362/362 [==============================] - 4s 12ms/step - loss: 0.0499 - accuracy: 0.9227 - val_loss: 0.1557 - val_accuracy: 0.8099\n",
      "Epoch 19/25\n",
      "362/362 [==============================] - 5s 13ms/step - loss: 0.0404 - accuracy: 0.9420 - val_loss: 0.0270 - val_accuracy: 0.9835\n",
      "Epoch 20/25\n",
      "362/362 [==============================] - 5s 14ms/step - loss: 0.0442 - accuracy: 0.9503 - val_loss: 0.0223 - val_accuracy: 0.9835\n",
      "Epoch 21/25\n",
      "362/362 [==============================] - 5s 13ms/step - loss: 0.0444 - accuracy: 0.9530 - val_loss: 0.1454 - val_accuracy: 0.8017\n",
      "Epoch 22/25\n",
      "362/362 [==============================] - 4s 12ms/step - loss: 0.0420 - accuracy: 0.9365 - val_loss: 0.0188 - val_accuracy: 0.9752\n",
      "Epoch 23/25\n",
      "362/362 [==============================] - 5s 14ms/step - loss: 0.0495 - accuracy: 0.9337 - val_loss: 0.1206 - val_accuracy: 0.8264\n",
      "Epoch 24/25\n",
      "362/362 [==============================] - 5s 15ms/step - loss: 0.0519 - accuracy: 0.9337 - val_loss: 0.0372 - val_accuracy: 0.9421\n",
      "Epoch 25/25\n",
      "362/362 [==============================] - 6s 17ms/step - loss: 0.0431 - accuracy: 0.9254 - val_loss: 0.0331 - val_accuracy: 0.9587\n"
     ]
    }
   ],
   "source": [
    "# Fitting the model with 25 epochs, with a batch size of 1.\n",
    "# The model is fitted with train features and train target varaibles.\n",
    "# epochs: an epoch refers to one cycle through the full training dataset.\n",
    "# batch_size: number of samples to be processed at a time.\n",
    "# validation_split: used to split the dataset to find the way the model is training.\n",
    "# During training, (xtrain, ytrain) data is used to adjust trainable parameters of the model. \n",
    "# However, we don't know whether model is overfit or under fit, \n",
    "# whether model is going to do well when new data is provided. Thus validation is used to address this problem.\n",
    "# The fitted model is saved into 'history' variable.\n",
    "history = classifier.fit(xtrain, ytrain, epochs=25, batch_size=1,  validation_split=0.25)"
   ]
  },
  {
   "cell_type": "code",
   "execution_count": 129,
   "metadata": {},
   "outputs": [
    {
     "data": {
      "image/png": "[encoded data removed]",
      "text/plain": [
       "<Figure size 432x288 with 1 Axes>"
      ]
     },
     "metadata": {
      "needs_background": "light"
     },
     "output_type": "display_data"
    }
   ],
   "source": [
    "# 'history' attribute is a dictionary recording training loss values and metrics values at successive epochs, \n",
    "# as well as validation loss values and validation metrics values.\n",
    "# Plotting the loss values of training set and validation set.\n",
    "plt.plot(history.history['loss'])\n",
    "plt.plot(history.history['val_loss'])\n",
    "# Setting the title of the graph.\n",
    "plt.title('train vs validation loss')\n",
    "# Labelling the axeas respectively.\n",
    "plt.ylabel('loss')\n",
    "plt.xlabel('epoch')\n",
    "# Describing the elements and setting them at upper right location on the plot.\n",
    "plt.legend(['train', 'validation'], loc='upper right')\n",
    "plt.show()"
   ]
  },
  {
   "cell_type": "markdown",
   "metadata": {},
   "source": [
    "While the epochs are increasing, Train and Validation losses are decreasing.<br>\n",
    "The spikes observed in the validation loss, is due to the consequence of Mini-Batch Gradient Descent(here the batch size is 1) in Adam optimizer. "
   ]
  },
  {
   "cell_type": "code",
   "execution_count": 131,
   "metadata": {},
   "outputs": [],
   "source": [
    "# Get test and train set predictions.\n",
    "# Predicting the train and test data by using the above model.\n",
    "train_prediction = classifier.predict(xtrain)\n",
    "test_prediction = classifier.predict(xtest)\n",
    "# Comparing the prediction accuracy of Train and Test helps to identify whether,\n",
    "# the model is either underfitting or overfitting.\n",
    "# Underfitting: Error due to bias i.e model doesn't do well on training set,\n",
    "# i.e the model did not extract the important features from train data.\n",
    "# Overfitting: Error due to variance i.e the model does well in training set but, not on test data,\n",
    "# i.e the model not only selected the important patterns, it selecte the non-prominent patterns too."
   ]
  },
  {
   "cell_type": "markdown",
   "metadata": {},
   "source": [
    "### 7. Metrics"
   ]
  },
  {
   "cell_type": "markdown",
   "metadata": {},
   "source": [
    "Our goal is to accurately predict the trend of 'Apple Computer, Inc.' Stock Market.<br>\n",
    "We need to evaluate how well our model is performing i.e we need to know how much we can trust this model for predicting an unknown sample. <br><br>\n",
    "To calculate the model accuracy we will be using 'Confusion Matrix'. <br>\n",
    "Confusion Matrix: A table used to describe the performance of a classification model on a set of test data for which the true values are known. <br>\n",
    "Basic terms used in Confusion Matrix:\n",
    "1. True Positives(TP): These are the cases where the model correctly predicted positive class.\n",
    "2. True Negatives(TN): These are the cases where the model correctly predicted negative class.\n",
    "3. False Positives(FP): These are the cases where the model incorrectly predicted negative class as positive class.\n",
    "4. False Negative(FN): These are the cases where the model incorrectly predicted positive class as negative class.\n",
    "\n",
    "Accuracy: Overall performance of the model = (TP+TN)/(TP+FP+TN+FN)"
   ]
  },
  {
   "cell_type": "code",
   "execution_count": 133,
   "metadata": {},
   "outputs": [
    {
     "data": {
      "text/plain": [
       "array([[70,  0],\n",
       "       [ 7, 84]])"
      ]
     },
     "execution_count": 133,
     "metadata": {},
     "output_type": "execute_result"
    }
   ],
   "source": [
    "# Since we need a binary value either 0 or 1 we will convert the obtained continuous values from prediction.\n",
    "# 1 if predicted value >= 0.5,\n",
    "# 0 if predicted value < 0.5.\n",
    "# np.where(condition,a,b). a and b are the values defined based on the condition.\n",
    "# Here when the condition is true the value is 1, else it is 0.\n",
    "test = np.where(test_prediction>0.5, 1, 0) \n",
    "\n",
    "# Get the confusion matrix for binary classification.\n",
    "\n",
    "# Reshaping the predicted values.\n",
    "test = test.reshape(161,)\n",
    "\n",
    "# Confusion Matrix.\n",
    "# Converting the datatype of testtarget values to integer value.\n",
    "cf_matrix = metrics.confusion_matrix(ytest.astype(int),test)\n",
    "cf_matrix"
   ]
  },
  {
   "cell_type": "markdown",
   "metadata": {},
   "source": [
    "True Positives(predicted 1s/actual 1s) = 84 <br>\n",
    "True Negatives(predicted 0s/actual 0s) = 70 <br>\n",
    "False Positives(predicted 1s/actual 0s) = 0 <br>\n",
    "False Negatives(predicted 0s/actual 1s) = 7 <br>"
   ]
  },
  {
   "cell_type": "code",
   "execution_count": 138,
   "metadata": {},
   "outputs": [
    {
     "data": {
      "text/plain": [
       "<matplotlib.axes._subplots.AxesSubplot at 0x7f7e6aec0150>"
      ]
     },
     "execution_count": 138,
     "metadata": {},
     "output_type": "execute_result"
    },
    {
     "data": {
      "image/png": "[encoded data removed]",
      "text/plain": [
       "<Figure size 432x288 with 2 Axes>"
      ]
     },
     "metadata": {},
     "output_type": "display_data"
    }
   ],
   "source": [
    "# Plotting a heatmap to understand how the predicted and actual values are distributed.\n",
    "sns.set()\n",
    "sns.heatmap(cf_matrix)"
   ]
  },
  {
   "cell_type": "code",
   "execution_count": 140,
   "metadata": {},
   "outputs": [
    {
     "data": {
      "text/plain": [
       "0.043478260869565216"
      ]
     },
     "execution_count": 140,
     "metadata": {},
     "output_type": "execute_result"
    }
   ],
   "source": [
    "# Mean Squared Error gives the average of the squares of the errors.\n",
    "# We are squaring the errors to avoid cancelling effect i.e sometimes postivive errors and \n",
    "# negative errors get cancelled.\n",
    "# A lower mean squared error represents that model has a higher accuracy.\n",
    "metrics.mean_squared_error(ytest.astype('int'),test)"
   ]
  },
  {
   "cell_type": "code",
   "execution_count": 141,
   "metadata": {},
   "outputs": [
    {
     "data": {
      "text/plain": [
       "0.9600000000000001"
      ]
     },
     "execution_count": 141,
     "metadata": {},
     "output_type": "execute_result"
    }
   ],
   "source": [
    "# F1 Score is an important metric in classification problems.\n",
    "# F1 Score is the harmonic mean of Precision and Recall.\n",
    "# F1 Score = 2*((Precision*Recall)/(Precision+Recall)).\n",
    "# Precision: (True Positive/(True Positive+False Positive)),\n",
    "# i.e Precision gives the proportion of predictede actual positives among predicted positives.\n",
    "# Recall: (True Positive/(True Positive + False Negative)),\n",
    "# i.e Recall gives the proportion of predicted actual positives among total actual positives.\n",
    "# A higher F1 Score value indicates that the model is accurate.\n",
    "metrics.f1_score(ytest.astype('int'), test)"
   ]
  },
  {
   "cell_type": "markdown",
   "metadata": {},
   "source": [
    "Eventhough we build an accurate model, the predictions made are totally different from the real prices. <br>\n",
    "In real-world the Stock Market prices depend on the numerous factors like Supply and Demand in the market, Government Policies, News and many more. <br>\n",
    "This model doesn't consider any sentiment or news or any other factors other than stock data. In real-world this model fails to meet the right prediction."
   ]
  },
  {
   "cell_type": "code",
   "execution_count": null,
   "metadata": {},
   "outputs": [],
   "source": []
  }
 ],
 "metadata": {
  "kernelspec": {
   "display_name": "Python 3",
   "language": "python",
   "name": "python3"
  },
  "language_info": {
   "codemirror_mode": {
    "name": "ipython",
    "version": 3
   },
   "file_extension": ".py",
   "mimetype": "text/x-python",
   "name": "python",
   "nbconvert_exporter": "python",
   "pygments_lexer": "ipython3",
   "version": "3.7.5"
  }
 },
 "nbformat": 4,
 "nbformat_minor": 2
}
