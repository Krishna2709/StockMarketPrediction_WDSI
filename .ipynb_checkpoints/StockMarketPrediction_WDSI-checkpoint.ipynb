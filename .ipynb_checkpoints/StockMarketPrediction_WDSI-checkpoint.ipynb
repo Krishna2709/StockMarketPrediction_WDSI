{
 "cells": [
  {
   "cell_type": "markdown",
   "metadata": {
    "colab_type": "text",
    "id": "yOPKQ74qSPJD"
   },
   "source": []
  },
  {
   "cell_type": "code",
   "execution_count": 1,
   "metadata": {
    "colab": {
     "base_uri": "https://localhost:8080/",
     "height": 241
    },
    "colab_type": "code",
    "id": "AK0ImFi0nJnR",
    "outputId": "4996fc9d-1491-4c63-d4b7-de114f90cf74"
   },
   "outputs": [
    {
     "name": "stdout",
     "output_type": "stream",
     "text": [
      "Requirement already satisfied: yfinance in /usr/local/lib/python3.6/dist-packages (0.1.54)\n",
      "Requirement already satisfied: multitasking>=0.0.7 in /usr/local/lib/python3.6/dist-packages (from yfinance) (0.0.9)\n",
      "Requirement already satisfied: numpy>=1.15 in /usr/local/lib/python3.6/dist-packages (from yfinance) (1.18.5)\n",
      "Requirement already satisfied: requests>=2.20 in /usr/local/lib/python3.6/dist-packages (from yfinance) (2.23.0)\n",
      "Requirement already satisfied: pandas>=0.24 in /usr/local/lib/python3.6/dist-packages (from yfinance) (1.0.5)\n",
      "Requirement already satisfied: certifi>=2017.4.17 in /usr/local/lib/python3.6/dist-packages (from requests>=2.20->yfinance) (2020.6.20)\n",
      "Requirement already satisfied: idna<3,>=2.5 in /usr/local/lib/python3.6/dist-packages (from requests>=2.20->yfinance) (2.10)\n",
      "Requirement already satisfied: urllib3!=1.25.0,!=1.25.1,<1.26,>=1.21.1 in /usr/local/lib/python3.6/dist-packages (from requests>=2.20->yfinance) (1.24.3)\n",
      "Requirement already satisfied: chardet<4,>=3.0.2 in /usr/local/lib/python3.6/dist-packages (from requests>=2.20->yfinance) (3.0.4)\n",
      "Requirement already satisfied: python-dateutil>=2.6.1 in /usr/local/lib/python3.6/dist-packages (from pandas>=0.24->yfinance) (2.8.1)\n",
      "Requirement already satisfied: pytz>=2017.2 in /usr/local/lib/python3.6/dist-packages (from pandas>=0.24->yfinance) (2018.9)\n",
      "Requirement already satisfied: six>=1.5 in /usr/local/lib/python3.6/dist-packages (from python-dateutil>=2.6.1->pandas>=0.24->yfinance) (1.15.0)\n"
     ]
    }
   ],
   "source": [
    "pip install yfinance"
   ]
  },
  {
   "cell_type": "code",
   "execution_count": 2,
   "metadata": {
    "colab": {
     "base_uri": "https://localhost:8080/",
     "height": 34
    },
    "colab_type": "code",
    "id": "qh2gprY-mMut",
    "outputId": "a0c52f4d-1e1a-4f96-97e0-ed881f8751a2"
   },
   "outputs": [
    {
     "name": "stderr",
     "output_type": "stream",
     "text": [
      "Using TensorFlow backend.\n"
     ]
    }
   ],
   "source": [
    "import yfinance as yf\n",
    "import pandas as pd\n",
    "import numpy as np\n",
    "import math\n",
    "from sklearn.preprocessing import MinMaxScaler\n",
    "from sklearn.metrics import mean_squared_error\n",
    "from keras.models import Sequential\n",
    "from keras.layers import Dense, Activation, Dropout\n",
    "from keras.layers import LSTM\n",
    "from sklearn.metrics import confusion_matrix"
   ]
  },
  {
   "cell_type": "code",
   "execution_count": 3,
   "metadata": {
    "colab": {
     "base_uri": "https://localhost:8080/",
     "height": 34
    },
    "colab_type": "code",
    "id": "B9l867tWnFcr",
    "outputId": "45b8ae18-f08b-4cfd-ab5b-0a39064900e2"
   },
   "outputs": [
    {
     "name": "stdout",
     "output_type": "stream",
     "text": [
      "\r",
      "[*********************100%***********************]  1 of 1 completed\n"
     ]
    }
   ],
   "source": [
    "#Donwloading Apple OHLCV using yfinance\n",
    "dataset = yf.download('AAPL', start=\"2018-01-01\", end=\"2020-07-26\")"
   ]
  },
  {
   "cell_type": "code",
   "execution_count": 4,
   "metadata": {
    "colab": {
     "base_uri": "https://localhost:8080/",
     "height": 235
    },
    "colab_type": "code",
    "id": "Sfq1AkF5nzLP",
    "outputId": "427de63c-32f7-40f2-9972-43b0f9ba6bf5"
   },
   "outputs": [
    {
     "data": {
      "text/html": [
       "<div>\n",
       "<style scoped>\n",
       "    .dataframe tbody tr th:only-of-type {\n",
       "        vertical-align: middle;\n",
       "    }\n",
       "\n",
       "    .dataframe tbody tr th {\n",
       "        vertical-align: top;\n",
       "    }\n",
       "\n",
       "    .dataframe thead th {\n",
       "        text-align: right;\n",
       "    }\n",
       "</style>\n",
       "<table border=\"1\" class=\"dataframe\">\n",
       "  <thead>\n",
       "    <tr style=\"text-align: right;\">\n",
       "      <th></th>\n",
       "      <th>Open</th>\n",
       "      <th>High</th>\n",
       "      <th>Low</th>\n",
       "      <th>Close</th>\n",
       "      <th>Adj Close</th>\n",
       "      <th>Volume</th>\n",
       "    </tr>\n",
       "    <tr>\n",
       "      <th>Date</th>\n",
       "      <th></th>\n",
       "      <th></th>\n",
       "      <th></th>\n",
       "      <th></th>\n",
       "      <th></th>\n",
       "      <th></th>\n",
       "    </tr>\n",
       "  </thead>\n",
       "  <tbody>\n",
       "    <tr>\n",
       "      <th>2018-01-02</th>\n",
       "      <td>170.160004</td>\n",
       "      <td>172.300003</td>\n",
       "      <td>169.259995</td>\n",
       "      <td>172.259995</td>\n",
       "      <td>166.353714</td>\n",
       "      <td>25555900</td>\n",
       "    </tr>\n",
       "    <tr>\n",
       "      <th>2018-01-03</th>\n",
       "      <td>172.529999</td>\n",
       "      <td>174.550003</td>\n",
       "      <td>171.960007</td>\n",
       "      <td>172.229996</td>\n",
       "      <td>166.324722</td>\n",
       "      <td>29517900</td>\n",
       "    </tr>\n",
       "    <tr>\n",
       "      <th>2018-01-04</th>\n",
       "      <td>172.539993</td>\n",
       "      <td>173.470001</td>\n",
       "      <td>172.080002</td>\n",
       "      <td>173.029999</td>\n",
       "      <td>167.097290</td>\n",
       "      <td>22434600</td>\n",
       "    </tr>\n",
       "    <tr>\n",
       "      <th>2018-01-05</th>\n",
       "      <td>173.440002</td>\n",
       "      <td>175.369995</td>\n",
       "      <td>173.050003</td>\n",
       "      <td>175.000000</td>\n",
       "      <td>168.999741</td>\n",
       "      <td>23660000</td>\n",
       "    </tr>\n",
       "    <tr>\n",
       "      <th>2018-01-08</th>\n",
       "      <td>174.350006</td>\n",
       "      <td>175.610001</td>\n",
       "      <td>173.929993</td>\n",
       "      <td>174.350006</td>\n",
       "      <td>168.372040</td>\n",
       "      <td>20567800</td>\n",
       "    </tr>\n",
       "  </tbody>\n",
       "</table>\n",
       "</div>"
      ],
      "text/plain": [
       "                  Open        High  ...   Adj Close    Volume\n",
       "Date                                ...                      \n",
       "2018-01-02  170.160004  172.300003  ...  166.353714  25555900\n",
       "2018-01-03  172.529999  174.550003  ...  166.324722  29517900\n",
       "2018-01-04  172.539993  173.470001  ...  167.097290  22434600\n",
       "2018-01-05  173.440002  175.369995  ...  168.999741  23660000\n",
       "2018-01-08  174.350006  175.610001  ...  168.372040  20567800\n",
       "\n",
       "[5 rows x 6 columns]"
      ]
     },
     "execution_count": 4,
     "metadata": {
      "tags": []
     },
     "output_type": "execute_result"
    }
   ],
   "source": [
    "dataset.head()"
   ]
  },
  {
   "cell_type": "markdown",
   "metadata": {
    "colab_type": "text",
    "id": "0Tu4PJUhn0zz"
   },
   "source": [
    "Adjusted closing price amends a stock's closing price to accurately reflect that stock's value after accounting for any corporate actions.\n",
    "The closing price is the 'raw' price which is just the cash value of the last transacted price before the market closes.\n",
    "Adjusted closing price factors in corporate actions such as stock splits, dividends / distributions and rights offerings.  -- Investopedia"
   ]
  },
  {
   "cell_type": "code",
   "execution_count": 5,
   "metadata": {
    "colab": {},
    "colab_type": "code",
    "id": "Of2ouDz3rwuB"
   },
   "outputs": [],
   "source": [
    "dataset['AdjustmentFactor'] = dataset['Adj Close']/dataset['Close']"
   ]
  },
  {
   "cell_type": "code",
   "execution_count": 6,
   "metadata": {
    "colab": {
     "base_uri": "https://localhost:8080/",
     "height": 235
    },
    "colab_type": "code",
    "id": "ckn0Ik5dr6Du",
    "outputId": "77215863-42b6-442d-8e51-146aefec47fa"
   },
   "outputs": [
    {
     "data": {
      "text/html": [
       "<div>\n",
       "<style scoped>\n",
       "    .dataframe tbody tr th:only-of-type {\n",
       "        vertical-align: middle;\n",
       "    }\n",
       "\n",
       "    .dataframe tbody tr th {\n",
       "        vertical-align: top;\n",
       "    }\n",
       "\n",
       "    .dataframe thead th {\n",
       "        text-align: right;\n",
       "    }\n",
       "</style>\n",
       "<table border=\"1\" class=\"dataframe\">\n",
       "  <thead>\n",
       "    <tr style=\"text-align: right;\">\n",
       "      <th></th>\n",
       "      <th>Open</th>\n",
       "      <th>High</th>\n",
       "      <th>Low</th>\n",
       "      <th>Close</th>\n",
       "      <th>Adj Close</th>\n",
       "      <th>Volume</th>\n",
       "      <th>AdjustmentFactor</th>\n",
       "    </tr>\n",
       "    <tr>\n",
       "      <th>Date</th>\n",
       "      <th></th>\n",
       "      <th></th>\n",
       "      <th></th>\n",
       "      <th></th>\n",
       "      <th></th>\n",
       "      <th></th>\n",
       "      <th></th>\n",
       "    </tr>\n",
       "  </thead>\n",
       "  <tbody>\n",
       "    <tr>\n",
       "      <th>2018-01-02</th>\n",
       "      <td>170.160004</td>\n",
       "      <td>172.300003</td>\n",
       "      <td>169.259995</td>\n",
       "      <td>172.259995</td>\n",
       "      <td>166.353714</td>\n",
       "      <td>25555900</td>\n",
       "      <td>0.965713</td>\n",
       "    </tr>\n",
       "    <tr>\n",
       "      <th>2018-01-03</th>\n",
       "      <td>172.529999</td>\n",
       "      <td>174.550003</td>\n",
       "      <td>171.960007</td>\n",
       "      <td>172.229996</td>\n",
       "      <td>166.324722</td>\n",
       "      <td>29517900</td>\n",
       "      <td>0.965713</td>\n",
       "    </tr>\n",
       "    <tr>\n",
       "      <th>2018-01-04</th>\n",
       "      <td>172.539993</td>\n",
       "      <td>173.470001</td>\n",
       "      <td>172.080002</td>\n",
       "      <td>173.029999</td>\n",
       "      <td>167.097290</td>\n",
       "      <td>22434600</td>\n",
       "      <td>0.965713</td>\n",
       "    </tr>\n",
       "    <tr>\n",
       "      <th>2018-01-05</th>\n",
       "      <td>173.440002</td>\n",
       "      <td>175.369995</td>\n",
       "      <td>173.050003</td>\n",
       "      <td>175.000000</td>\n",
       "      <td>168.999741</td>\n",
       "      <td>23660000</td>\n",
       "      <td>0.965713</td>\n",
       "    </tr>\n",
       "    <tr>\n",
       "      <th>2018-01-08</th>\n",
       "      <td>174.350006</td>\n",
       "      <td>175.610001</td>\n",
       "      <td>173.929993</td>\n",
       "      <td>174.350006</td>\n",
       "      <td>168.372040</td>\n",
       "      <td>20567800</td>\n",
       "      <td>0.965713</td>\n",
       "    </tr>\n",
       "  </tbody>\n",
       "</table>\n",
       "</div>"
      ],
      "text/plain": [
       "                  Open        High  ...    Volume  AdjustmentFactor\n",
       "Date                                ...                            \n",
       "2018-01-02  170.160004  172.300003  ...  25555900          0.965713\n",
       "2018-01-03  172.529999  174.550003  ...  29517900          0.965713\n",
       "2018-01-04  172.539993  173.470001  ...  22434600          0.965713\n",
       "2018-01-05  173.440002  175.369995  ...  23660000          0.965713\n",
       "2018-01-08  174.350006  175.610001  ...  20567800          0.965713\n",
       "\n",
       "[5 rows x 7 columns]"
      ]
     },
     "execution_count": 6,
     "metadata": {
      "tags": []
     },
     "output_type": "execute_result"
    }
   ],
   "source": [
    "dataset.head()"
   ]
  },
  {
   "cell_type": "code",
   "execution_count": 7,
   "metadata": {
    "colab": {},
    "colab_type": "code",
    "id": "ItDqzCBLr7pE"
   },
   "outputs": [],
   "source": [
    "dataset['Adj Open'] = dataset['Open'] * dataset['AdjustmentFactor']\n",
    "dataset['Adj High'] = dataset['High'] * dataset['AdjustmentFactor']\n",
    "dataset['Adj Low'] = dataset['Low'] * dataset['AdjustmentFactor']"
   ]
  },
  {
   "cell_type": "code",
   "execution_count": 8,
   "metadata": {
    "colab": {
     "base_uri": "https://localhost:8080/",
     "height": 357
    },
    "colab_type": "code",
    "id": "pRYpbnr7sKnJ",
    "outputId": "00269d29-d469-4cd1-a75b-a7a1a6733645"
   },
   "outputs": [
    {
     "data": {
      "text/html": [
       "<div>\n",
       "<style scoped>\n",
       "    .dataframe tbody tr th:only-of-type {\n",
       "        vertical-align: middle;\n",
       "    }\n",
       "\n",
       "    .dataframe tbody tr th {\n",
       "        vertical-align: top;\n",
       "    }\n",
       "\n",
       "    .dataframe thead th {\n",
       "        text-align: right;\n",
       "    }\n",
       "</style>\n",
       "<table border=\"1\" class=\"dataframe\">\n",
       "  <thead>\n",
       "    <tr style=\"text-align: right;\">\n",
       "      <th></th>\n",
       "      <th>Open</th>\n",
       "      <th>High</th>\n",
       "      <th>Low</th>\n",
       "      <th>Close</th>\n",
       "      <th>Adj Close</th>\n",
       "      <th>Volume</th>\n",
       "      <th>AdjustmentFactor</th>\n",
       "      <th>Adj Open</th>\n",
       "      <th>Adj High</th>\n",
       "      <th>Adj Low</th>\n",
       "    </tr>\n",
       "    <tr>\n",
       "      <th>Date</th>\n",
       "      <th></th>\n",
       "      <th></th>\n",
       "      <th></th>\n",
       "      <th></th>\n",
       "      <th></th>\n",
       "      <th></th>\n",
       "      <th></th>\n",
       "      <th></th>\n",
       "      <th></th>\n",
       "      <th></th>\n",
       "    </tr>\n",
       "  </thead>\n",
       "  <tbody>\n",
       "    <tr>\n",
       "      <th>2018-01-02</th>\n",
       "      <td>170.160004</td>\n",
       "      <td>172.300003</td>\n",
       "      <td>169.259995</td>\n",
       "      <td>172.259995</td>\n",
       "      <td>166.353714</td>\n",
       "      <td>25555900</td>\n",
       "      <td>0.965713</td>\n",
       "      <td>164.325726</td>\n",
       "      <td>166.392351</td>\n",
       "      <td>163.456575</td>\n",
       "    </tr>\n",
       "    <tr>\n",
       "      <th>2018-01-03</th>\n",
       "      <td>172.529999</td>\n",
       "      <td>174.550003</td>\n",
       "      <td>171.960007</td>\n",
       "      <td>172.229996</td>\n",
       "      <td>166.324722</td>\n",
       "      <td>29517900</td>\n",
       "      <td>0.965713</td>\n",
       "      <td>166.614439</td>\n",
       "      <td>168.565183</td>\n",
       "      <td>166.063990</td>\n",
       "    </tr>\n",
       "    <tr>\n",
       "      <th>2018-01-04</th>\n",
       "      <td>172.539993</td>\n",
       "      <td>173.470001</td>\n",
       "      <td>172.080002</td>\n",
       "      <td>173.029999</td>\n",
       "      <td>167.097290</td>\n",
       "      <td>22434600</td>\n",
       "      <td>0.965713</td>\n",
       "      <td>166.624085</td>\n",
       "      <td>167.522206</td>\n",
       "      <td>166.179866</td>\n",
       "    </tr>\n",
       "    <tr>\n",
       "      <th>2018-01-05</th>\n",
       "      <td>173.440002</td>\n",
       "      <td>175.369995</td>\n",
       "      <td>173.050003</td>\n",
       "      <td>175.000000</td>\n",
       "      <td>168.999741</td>\n",
       "      <td>23660000</td>\n",
       "      <td>0.965713</td>\n",
       "      <td>167.493231</td>\n",
       "      <td>169.357050</td>\n",
       "      <td>167.116604</td>\n",
       "    </tr>\n",
       "    <tr>\n",
       "      <th>2018-01-08</th>\n",
       "      <td>174.350006</td>\n",
       "      <td>175.610001</td>\n",
       "      <td>173.929993</td>\n",
       "      <td>174.350006</td>\n",
       "      <td>168.372040</td>\n",
       "      <td>20567800</td>\n",
       "      <td>0.965713</td>\n",
       "      <td>168.372040</td>\n",
       "      <td>169.588833</td>\n",
       "      <td>167.966427</td>\n",
       "    </tr>\n",
       "  </tbody>\n",
       "</table>\n",
       "</div>"
      ],
      "text/plain": [
       "                  Open        High  ...    Adj High     Adj Low\n",
       "Date                                ...                        \n",
       "2018-01-02  170.160004  172.300003  ...  166.392351  163.456575\n",
       "2018-01-03  172.529999  174.550003  ...  168.565183  166.063990\n",
       "2018-01-04  172.539993  173.470001  ...  167.522206  166.179866\n",
       "2018-01-05  173.440002  175.369995  ...  169.357050  167.116604\n",
       "2018-01-08  174.350006  175.610001  ...  169.588833  167.966427\n",
       "\n",
       "[5 rows x 10 columns]"
      ]
     },
     "execution_count": 8,
     "metadata": {
      "tags": []
     },
     "output_type": "execute_result"
    }
   ],
   "source": [
    "dataset.head()"
   ]
  },
  {
   "cell_type": "code",
   "execution_count": 9,
   "metadata": {
    "colab": {},
    "colab_type": "code",
    "id": "tNvP4k3ftNaT"
   },
   "outputs": [],
   "source": [
    "dataset.reset_index(inplace=True)"
   ]
  },
  {
   "cell_type": "code",
   "execution_count": 10,
   "metadata": {
    "colab": {},
    "colab_type": "code",
    "id": "DW9rEGhLuY7T"
   },
   "outputs": [],
   "source": [
    "\n",
    "dataset['Date'] = pd.to_datetime(dataset.Date,format='%Y-%m-%d')"
   ]
  },
  {
   "cell_type": "code",
   "execution_count": 11,
   "metadata": {
    "colab": {
     "base_uri": "https://localhost:8080/",
     "height": 326
    },
    "colab_type": "code",
    "id": "nDEFmv7vuntC",
    "outputId": "2fc84932-5b5c-42d5-85a0-86ea9887bd22"
   },
   "outputs": [
    {
     "data": {
      "text/html": [
       "<div>\n",
       "<style scoped>\n",
       "    .dataframe tbody tr th:only-of-type {\n",
       "        vertical-align: middle;\n",
       "    }\n",
       "\n",
       "    .dataframe tbody tr th {\n",
       "        vertical-align: top;\n",
       "    }\n",
       "\n",
       "    .dataframe thead th {\n",
       "        text-align: right;\n",
       "    }\n",
       "</style>\n",
       "<table border=\"1\" class=\"dataframe\">\n",
       "  <thead>\n",
       "    <tr style=\"text-align: right;\">\n",
       "      <th></th>\n",
       "      <th>Date</th>\n",
       "      <th>Open</th>\n",
       "      <th>High</th>\n",
       "      <th>Low</th>\n",
       "      <th>Close</th>\n",
       "      <th>Adj Close</th>\n",
       "      <th>Volume</th>\n",
       "      <th>AdjustmentFactor</th>\n",
       "      <th>Adj Open</th>\n",
       "      <th>Adj High</th>\n",
       "      <th>Adj Low</th>\n",
       "    </tr>\n",
       "  </thead>\n",
       "  <tbody>\n",
       "    <tr>\n",
       "      <th>0</th>\n",
       "      <td>2018-01-02</td>\n",
       "      <td>170.160004</td>\n",
       "      <td>172.300003</td>\n",
       "      <td>169.259995</td>\n",
       "      <td>172.259995</td>\n",
       "      <td>166.353714</td>\n",
       "      <td>25555900</td>\n",
       "      <td>0.965713</td>\n",
       "      <td>164.325726</td>\n",
       "      <td>166.392351</td>\n",
       "      <td>163.456575</td>\n",
       "    </tr>\n",
       "    <tr>\n",
       "      <th>1</th>\n",
       "      <td>2018-01-03</td>\n",
       "      <td>172.529999</td>\n",
       "      <td>174.550003</td>\n",
       "      <td>171.960007</td>\n",
       "      <td>172.229996</td>\n",
       "      <td>166.324722</td>\n",
       "      <td>29517900</td>\n",
       "      <td>0.965713</td>\n",
       "      <td>166.614439</td>\n",
       "      <td>168.565183</td>\n",
       "      <td>166.063990</td>\n",
       "    </tr>\n",
       "    <tr>\n",
       "      <th>2</th>\n",
       "      <td>2018-01-04</td>\n",
       "      <td>172.539993</td>\n",
       "      <td>173.470001</td>\n",
       "      <td>172.080002</td>\n",
       "      <td>173.029999</td>\n",
       "      <td>167.097290</td>\n",
       "      <td>22434600</td>\n",
       "      <td>0.965713</td>\n",
       "      <td>166.624085</td>\n",
       "      <td>167.522206</td>\n",
       "      <td>166.179866</td>\n",
       "    </tr>\n",
       "    <tr>\n",
       "      <th>3</th>\n",
       "      <td>2018-01-05</td>\n",
       "      <td>173.440002</td>\n",
       "      <td>175.369995</td>\n",
       "      <td>173.050003</td>\n",
       "      <td>175.000000</td>\n",
       "      <td>168.999741</td>\n",
       "      <td>23660000</td>\n",
       "      <td>0.965713</td>\n",
       "      <td>167.493231</td>\n",
       "      <td>169.357050</td>\n",
       "      <td>167.116604</td>\n",
       "    </tr>\n",
       "    <tr>\n",
       "      <th>4</th>\n",
       "      <td>2018-01-08</td>\n",
       "      <td>174.350006</td>\n",
       "      <td>175.610001</td>\n",
       "      <td>173.929993</td>\n",
       "      <td>174.350006</td>\n",
       "      <td>168.372040</td>\n",
       "      <td>20567800</td>\n",
       "      <td>0.965713</td>\n",
       "      <td>168.372040</td>\n",
       "      <td>169.588833</td>\n",
       "      <td>167.966427</td>\n",
       "    </tr>\n",
       "  </tbody>\n",
       "</table>\n",
       "</div>"
      ],
      "text/plain": [
       "        Date        Open        High  ...    Adj Open    Adj High     Adj Low\n",
       "0 2018-01-02  170.160004  172.300003  ...  164.325726  166.392351  163.456575\n",
       "1 2018-01-03  172.529999  174.550003  ...  166.614439  168.565183  166.063990\n",
       "2 2018-01-04  172.539993  173.470001  ...  166.624085  167.522206  166.179866\n",
       "3 2018-01-05  173.440002  175.369995  ...  167.493231  169.357050  167.116604\n",
       "4 2018-01-08  174.350006  175.610001  ...  168.372040  169.588833  167.966427\n",
       "\n",
       "[5 rows x 11 columns]"
      ]
     },
     "execution_count": 11,
     "metadata": {
      "tags": []
     },
     "output_type": "execute_result"
    }
   ],
   "source": [
    "dataset.head()"
   ]
  },
  {
   "cell_type": "code",
   "execution_count": 12,
   "metadata": {
    "colab": {
     "base_uri": "https://localhost:8080/",
     "height": 483
    },
    "colab_type": "code",
    "id": "w5lxXLOHushx",
    "outputId": "a5be5bb1-0020-41e9-aa3f-71a31ce3ea68"
   },
   "outputs": [
    {
     "data": {
      "image/png": "[encoded data removed]",
      "text/plain": [
       "<Figure size 1152x576 with 1 Axes>"
      ]
     },
     "metadata": {
      "needs_background": "light",
      "tags": []
     },
     "output_type": "display_data"
    }
   ],
   "source": [
    "dataset.index = dataset.Date\n",
    "\n",
    "import matplotlib.pyplot as plt\n",
    "plt.figure(figsize=(16,8))\n",
    "plt.plot(dataset.index, dataset.Open, label='Open Price')\n",
    "plt.plot(dataset.index, dataset['Adj Open'], label='Adjusted Open Price')\n",
    "plt.legend()\n",
    "plt.show()"
   ]
  },
  {
   "cell_type": "code",
   "execution_count": 13,
   "metadata": {
    "colab": {},
    "colab_type": "code",
    "id": "bvWfnb8Cu5k9"
   },
   "outputs": [],
   "source": [
    "returns = dataset[['Adj Close']].pct_change()"
   ]
  },
  {
   "cell_type": "code",
   "execution_count": 14,
   "metadata": {
    "colab": {
     "base_uri": "https://localhost:8080/",
     "height": 450
    },
    "colab_type": "code",
    "id": "hDZMaG1Vwe9H",
    "outputId": "927635af-748d-4fa3-dc9b-a625ebc64502"
   },
   "outputs": [
    {
     "data": {
      "text/html": [
       "<div>\n",
       "<style scoped>\n",
       "    .dataframe tbody tr th:only-of-type {\n",
       "        vertical-align: middle;\n",
       "    }\n",
       "\n",
       "    .dataframe tbody tr th {\n",
       "        vertical-align: top;\n",
       "    }\n",
       "\n",
       "    .dataframe thead th {\n",
       "        text-align: right;\n",
       "    }\n",
       "</style>\n",
       "<table border=\"1\" class=\"dataframe\">\n",
       "  <thead>\n",
       "    <tr style=\"text-align: right;\">\n",
       "      <th></th>\n",
       "      <th>Adj Close</th>\n",
       "    </tr>\n",
       "    <tr>\n",
       "      <th>Date</th>\n",
       "      <th></th>\n",
       "    </tr>\n",
       "  </thead>\n",
       "  <tbody>\n",
       "    <tr>\n",
       "      <th>2018-01-02</th>\n",
       "      <td>NaN</td>\n",
       "    </tr>\n",
       "    <tr>\n",
       "      <th>2018-01-03</th>\n",
       "      <td>-0.000174</td>\n",
       "    </tr>\n",
       "    <tr>\n",
       "      <th>2018-01-04</th>\n",
       "      <td>0.004645</td>\n",
       "    </tr>\n",
       "    <tr>\n",
       "      <th>2018-01-05</th>\n",
       "      <td>0.011385</td>\n",
       "    </tr>\n",
       "    <tr>\n",
       "      <th>2018-01-08</th>\n",
       "      <td>-0.003714</td>\n",
       "    </tr>\n",
       "    <tr>\n",
       "      <th>...</th>\n",
       "      <td>...</td>\n",
       "    </tr>\n",
       "    <tr>\n",
       "      <th>2020-07-20</th>\n",
       "      <td>0.021074</td>\n",
       "    </tr>\n",
       "    <tr>\n",
       "      <th>2020-07-21</th>\n",
       "      <td>-0.013802</td>\n",
       "    </tr>\n",
       "    <tr>\n",
       "      <th>2020-07-22</th>\n",
       "      <td>0.002809</td>\n",
       "    </tr>\n",
       "    <tr>\n",
       "      <th>2020-07-23</th>\n",
       "      <td>-0.045516</td>\n",
       "    </tr>\n",
       "    <tr>\n",
       "      <th>2020-07-24</th>\n",
       "      <td>-0.002477</td>\n",
       "    </tr>\n",
       "  </tbody>\n",
       "</table>\n",
       "<p>645 rows × 1 columns</p>\n",
       "</div>"
      ],
      "text/plain": [
       "            Adj Close\n",
       "Date                 \n",
       "2018-01-02        NaN\n",
       "2018-01-03  -0.000174\n",
       "2018-01-04   0.004645\n",
       "2018-01-05   0.011385\n",
       "2018-01-08  -0.003714\n",
       "...               ...\n",
       "2020-07-20   0.021074\n",
       "2020-07-21  -0.013802\n",
       "2020-07-22   0.002809\n",
       "2020-07-23  -0.045516\n",
       "2020-07-24  -0.002477\n",
       "\n",
       "[645 rows x 1 columns]"
      ]
     },
     "execution_count": 14,
     "metadata": {
      "tags": []
     },
     "output_type": "execute_result"
    }
   ],
   "source": [
    "returns"
   ]
  },
  {
   "cell_type": "code",
   "execution_count": 15,
   "metadata": {
    "colab": {},
    "colab_type": "code",
    "id": "F7pXQb6Kwf7a"
   },
   "outputs": [],
   "source": [
    "OHLCV_mean = dataset[['Adj Open','Adj High','Adj Low', 'Adj Close']].mean(axis = 1)"
   ]
  },
  {
   "cell_type": "code",
   "execution_count": 16,
   "metadata": {
    "colab": {
     "base_uri": "https://localhost:8080/",
     "height": 238
    },
    "colab_type": "code",
    "id": "yv_1arM58X_X",
    "outputId": "9dd61a9e-b410-42c3-dfbc-8cffb54e9f8e"
   },
   "outputs": [
    {
     "data": {
      "text/plain": [
       "Date\n",
       "2018-01-02    165.132091\n",
       "2018-01-03    166.892084\n",
       "2018-01-04    166.855862\n",
       "2018-01-05    168.241656\n",
       "2018-01-08    168.574835\n",
       "                 ...    \n",
       "2020-07-20    389.337502\n",
       "2020-07-21    392.165001\n",
       "2020-07-22    388.542496\n",
       "2020-07-23    378.930000\n",
       "2020-07-24    365.717499\n",
       "Length: 645, dtype: float64"
      ]
     },
     "execution_count": 16,
     "metadata": {
      "tags": []
     },
     "output_type": "execute_result"
    }
   ],
   "source": [
    "OHLCV_mean"
   ]
  },
  {
   "cell_type": "code",
   "execution_count": 17,
   "metadata": {
    "colab": {},
    "colab_type": "code",
    "id": "JSE4btlH8bE9"
   },
   "outputs": [],
   "source": [
    "# 2) Adjusted Close \n",
    "close_val = dataset[['Adj Close']]\n",
    "\n",
    "X = pd.concat([OHLCV_mean,close_val,returns],axis=1)\n",
    "X.columns = ['OHLC','Adj Close','Returns']"
   ]
  },
  {
   "cell_type": "code",
   "execution_count": 18,
   "metadata": {
    "colab": {
     "base_uri": "https://localhost:8080/",
     "height": 390
    },
    "colab_type": "code",
    "id": "L3e3Vsve9ZPE",
    "outputId": "f55ec92a-c65a-4531-f3a0-9691af30da8e"
   },
   "outputs": [
    {
     "data": {
      "text/html": [
       "<div>\n",
       "<style scoped>\n",
       "    .dataframe tbody tr th:only-of-type {\n",
       "        vertical-align: middle;\n",
       "    }\n",
       "\n",
       "    .dataframe tbody tr th {\n",
       "        vertical-align: top;\n",
       "    }\n",
       "\n",
       "    .dataframe thead th {\n",
       "        text-align: right;\n",
       "    }\n",
       "</style>\n",
       "<table border=\"1\" class=\"dataframe\">\n",
       "  <thead>\n",
       "    <tr style=\"text-align: right;\">\n",
       "      <th></th>\n",
       "      <th>OHLC</th>\n",
       "      <th>Adj Close</th>\n",
       "      <th>Returns</th>\n",
       "    </tr>\n",
       "    <tr>\n",
       "      <th>Date</th>\n",
       "      <th></th>\n",
       "      <th></th>\n",
       "      <th></th>\n",
       "    </tr>\n",
       "  </thead>\n",
       "  <tbody>\n",
       "    <tr>\n",
       "      <th>2018-01-02</th>\n",
       "      <td>165.132091</td>\n",
       "      <td>166.353714</td>\n",
       "      <td>NaN</td>\n",
       "    </tr>\n",
       "    <tr>\n",
       "      <th>2018-01-03</th>\n",
       "      <td>166.892084</td>\n",
       "      <td>166.324722</td>\n",
       "      <td>-0.000174</td>\n",
       "    </tr>\n",
       "    <tr>\n",
       "      <th>2018-01-04</th>\n",
       "      <td>166.855862</td>\n",
       "      <td>167.097290</td>\n",
       "      <td>0.004645</td>\n",
       "    </tr>\n",
       "    <tr>\n",
       "      <th>2018-01-05</th>\n",
       "      <td>168.241656</td>\n",
       "      <td>168.999741</td>\n",
       "      <td>0.011385</td>\n",
       "    </tr>\n",
       "    <tr>\n",
       "      <th>2018-01-08</th>\n",
       "      <td>168.574835</td>\n",
       "      <td>168.372040</td>\n",
       "      <td>-0.003714</td>\n",
       "    </tr>\n",
       "    <tr>\n",
       "      <th>2018-01-09</th>\n",
       "      <td>168.359965</td>\n",
       "      <td>168.352722</td>\n",
       "      <td>-0.000115</td>\n",
       "    </tr>\n",
       "    <tr>\n",
       "      <th>2018-01-10</th>\n",
       "      <td>167.732267</td>\n",
       "      <td>168.314102</td>\n",
       "      <td>-0.000229</td>\n",
       "    </tr>\n",
       "    <tr>\n",
       "      <th>2018-01-11</th>\n",
       "      <td>168.963546</td>\n",
       "      <td>169.270157</td>\n",
       "      <td>0.005680</td>\n",
       "    </tr>\n",
       "    <tr>\n",
       "      <th>2018-01-12</th>\n",
       "      <td>170.515941</td>\n",
       "      <td>171.018112</td>\n",
       "      <td>0.010326</td>\n",
       "    </tr>\n",
       "    <tr>\n",
       "      <th>2018-01-16</th>\n",
       "      <td>171.322309</td>\n",
       "      <td>170.148972</td>\n",
       "      <td>-0.005082</td>\n",
       "    </tr>\n",
       "  </tbody>\n",
       "</table>\n",
       "</div>"
      ],
      "text/plain": [
       "                  OHLC   Adj Close   Returns\n",
       "Date                                        \n",
       "2018-01-02  165.132091  166.353714       NaN\n",
       "2018-01-03  166.892084  166.324722 -0.000174\n",
       "2018-01-04  166.855862  167.097290  0.004645\n",
       "2018-01-05  168.241656  168.999741  0.011385\n",
       "2018-01-08  168.574835  168.372040 -0.003714\n",
       "2018-01-09  168.359965  168.352722 -0.000115\n",
       "2018-01-10  167.732267  168.314102 -0.000229\n",
       "2018-01-11  168.963546  169.270157  0.005680\n",
       "2018-01-12  170.515941  171.018112  0.010326\n",
       "2018-01-16  171.322309  170.148972 -0.005082"
      ]
     },
     "execution_count": 18,
     "metadata": {
      "tags": []
     },
     "output_type": "execute_result"
    }
   ],
   "source": [
    "X.head(10)"
   ]
  },
  {
   "cell_type": "code",
   "execution_count": 19,
   "metadata": {
    "colab": {},
    "colab_type": "code",
    "id": "df6Ag2Zp9bw5"
   },
   "outputs": [],
   "source": [
    " x= X.to_numpy()"
   ]
  },
  {
   "cell_type": "code",
   "execution_count": 20,
   "metadata": {
    "colab": {},
    "colab_type": "code",
    "id": "Cq1iqLiL9mUK"
   },
   "outputs": [],
   "source": [
    "y = (np.sign(x[:,2])+1)/2"
   ]
  },
  {
   "cell_type": "code",
   "execution_count": 21,
   "metadata": {
    "colab": {
     "base_uri": "https://localhost:8080/",
     "height": 867
    },
    "colab_type": "code",
    "id": "pRxrzXQ4Dp3u",
    "outputId": "c7d7f409-24c8-4581-921f-cb9e7bb59cf3"
   },
   "outputs": [
    {
     "data": {
      "text/plain": [
       "array([nan, 0. , 1. , 1. , 0. , 0. , 0. , 1. , 1. , 0. , 1. , 1. , 0. ,\n",
       "       0. , 1. , 0. , 0. , 1. , 0. , 0. , 1. , 1. , 0. , 0. , 1. , 0. ,\n",
       "       0. , 1. , 1. , 1. , 1. , 1. , 0. , 0. , 0. , 1. , 1. , 1. , 0. ,\n",
       "       0. , 0. , 1. , 1. , 0. , 0. , 1. , 1. , 1. , 0. , 0. , 1. , 0. ,\n",
       "       0. , 0. , 0. , 0. , 0. , 1. , 0. , 0. , 1. , 0. , 1. , 1. , 1. ,\n",
       "       0. , 1. , 1. , 0. , 1. , 1. , 1. , 1. , 0. , 0. , 0. , 0. , 0. ,\n",
       "       1. , 1. , 0. , 1. , 1. , 1. , 1. , 1. , 1. , 1. , 1. , 1. , 0. ,\n",
       "       0. , 0. , 1. , 0. , 0. , 1. , 0. , 1. , 0. , 1. , 0. , 0. , 0. ,\n",
       "       1. , 1. , 1. , 1. , 0. , 0. , 0. , 1. , 0. , 1. , 0. , 0. , 0. ,\n",
       "       1. , 0. , 0. , 0. , 1. , 0. , 1. , 0. , 1. , 0. , 1. , 1. , 1. ,\n",
       "       0. , 0. , 1. , 1. , 0. , 1. , 0. , 1. , 0. , 1. , 1. , 1. , 0. ,\n",
       "       0. , 0. , 1. , 1. , 1. , 1. , 1. , 0. , 1. , 1. , 0. , 1. , 1. ,\n",
       "       1. , 1. , 1. , 0. , 0. , 1. , 1. , 1. , 1. , 1. , 1. , 1. , 1. ,\n",
       "       1. , 0. , 0. , 0. , 0. , 1. , 0. , 1. , 0. , 0. , 1. , 1. , 1. ,\n",
       "       0. , 1. , 1. , 0. , 1. , 1. , 1. , 1. , 1. , 0. , 0. , 0. , 1. ,\n",
       "       0. , 0. , 1. , 0. , 1. , 0. , 0. , 1. , 1. , 1. , 0. , 1. , 0. ,\n",
       "       0. , 1. , 1. , 1. , 0. , 0. , 1. , 1. , 0. , 0. , 0. , 0. , 0. ,\n",
       "       1. , 1. , 0. , 0. , 0. , 0. , 1. , 0. , 1. , 0. , 0. , 1. , 0. ,\n",
       "       0. , 0. , 1. , 0. , 1. , 1. , 0. , 0. , 1. , 0. , 0. , 0. , 0. ,\n",
       "       1. , 0. , 1. , 1. , 1. , 0. , 1. , 0. , 1. , 1. , 1. , 0. , 0. ,\n",
       "       1. , 1. , 1. , 1. , 0. , 1. , 0. , 1. , 0. , 0. , 1. , 1. , 1. ,\n",
       "       1. , 1. , 1. , 0. , 1. , 0. , 1. , 0. , 1. , 0. , 1. , 1. , 0. ,\n",
       "       1. , 1. , 1. , 1. , 0. , 1. , 1. , 0. , 0. , 0. , 1. , 1. , 1. ,\n",
       "       1. , 1. , 1. , 1. , 0. , 1. , 1. , 0. , 0. , 0. , 1. , 1. , 1. ,\n",
       "       1. , 1. , 1. , 1. , 1. , 1. , 0. , 1. , 0. , 0. , 1. , 1. , 1. ,\n",
       "       1. , 1. , 1. , 0. , 0. , 0. , 1. , 0. , 1. , 0. , 1. , 0. , 0. ,\n",
       "       1. , 0. , 0. , 0. , 1. , 1. , 0. , 0. , 0. , 1. , 0. , 0. , 0. ,\n",
       "       0. , 0. , 1. , 0. , 0. , 1. , 1. , 1. , 1. , 1. , 1. , 0. , 0. ,\n",
       "       0. , 1. , 1. , 0. , 1. , 0. , 0. , 0. , 1. , 0. , 0. , 1. , 1. ,\n",
       "       1. , 0. , 0. , 1. , 1. , 0. , 1. , 1. , 0. , 0. , 1. , 0. , 1. ,\n",
       "       1. , 0. , 0. , 1. , 1. , 0. , 1. , 0. , 0. , 0. , 1. , 1. , 1. ,\n",
       "       0. , 0. , 1. , 0. , 0. , 1. , 1. , 1. , 1. , 0. , 0. , 1. , 0. ,\n",
       "       1. , 1. , 0. , 0. , 1. , 1. , 0. , 1. , 1. , 1. , 0. , 0. , 1. ,\n",
       "       1. , 1. , 0. , 0. , 1. , 0. , 1. , 0. , 0. , 1. , 1. , 0. , 1. ,\n",
       "       1. , 1. , 0. , 1. , 1. , 1. , 0. , 0. , 0. , 1. , 1. , 1. , 0. ,\n",
       "       1. , 1. , 1. , 1. , 0. , 0. , 1. , 1. , 1. , 0. , 1. , 1. , 1. ,\n",
       "       1. , 0. , 1. , 0. , 1. , 1. , 0. , 0. , 0. , 0. , 1. , 0. , 1. ,\n",
       "       0. , 0. , 0. , 1. , 1. , 1. , 0. , 1. , 1. , 1. , 1. , 1. , 1. ,\n",
       "       0. , 1. , 0. , 1. , 1. , 1. , 0. , 1. , 1. , 1. , 0. , 1. , 0. ,\n",
       "       1. , 1. , 1. , 1. , 0. , 0. , 1. , 1. , 0. , 1. , 1. , 0. , 0. ,\n",
       "       1. , 1. , 0. , 0. , 0. , 1. , 1. , 1. , 0. , 1. , 0. , 1. , 0. ,\n",
       "       1. , 0. , 1. , 0. , 0. , 0. , 0. , 1. , 0. , 0. , 1. , 0. , 1. ,\n",
       "       0. , 0. , 0. , 1. , 0. , 0. , 1. , 0. , 1. , 0. , 0. , 0. , 0. ,\n",
       "       1. , 0. , 1. , 0. , 1. , 0. , 0. , 1. , 0. , 1. , 0. , 1. , 1. ,\n",
       "       1. , 1. , 0. , 1. , 0. , 0. , 0. , 1. , 0. , 1. , 1. , 0. , 1. ,\n",
       "       1. , 0. , 1. , 1. , 1. , 1. , 1. , 1. , 0. , 0. , 1. , 0. , 1. ,\n",
       "       0. , 1. , 0. , 1. , 0. , 1. , 1. , 0. , 1. , 1. , 1. , 0. , 1. ,\n",
       "       1. , 1. , 1. , 0. , 1. , 1. , 1. , 0. , 1. , 0. , 1. , 1. , 0. ,\n",
       "       1. , 0. , 1. , 1. , 0. , 0.5, 1. , 0. , 1. , 1. , 1. , 0. , 1. ,\n",
       "       1. , 0. , 0. , 1. , 0. , 1. , 0. , 0. ])"
      ]
     },
     "execution_count": 21,
     "metadata": {
      "tags": []
     },
     "output_type": "execute_result"
    }
   ],
   "source": [
    "y"
   ]
  },
  {
   "cell_type": "code",
   "execution_count": 22,
   "metadata": {
    "colab": {},
    "colab_type": "code",
    "id": "RCgpGTeNFYzh"
   },
   "outputs": [],
   "source": [
    "# Defining the min-max scalar for scaling the features\n",
    "scaler = MinMaxScaler(feature_range=(0, 1))\n",
    "\n",
    "# Scaling the features\n",
    "x = scaler.fit_transform(x)"
   ]
  },
  {
   "cell_type": "code",
   "execution_count": 23,
   "metadata": {
    "colab": {
     "base_uri": "https://localhost:8080/",
     "height": 136
    },
    "colab_type": "code",
    "id": "CbYRX2zzT9QL",
    "outputId": "047dc0c4-1cdb-4692-9781-4485e74d6b20"
   },
   "outputs": [
    {
     "data": {
      "text/plain": [
       "array([[0.09728698, 0.10618802,        nan],\n",
       "       [0.10427609, 0.1060739 , 0.51708586],\n",
       "       [0.10413225, 0.10911486, 0.53648257],\n",
       "       ...,\n",
       "       [0.984473  , 0.98291701, 0.52909425],\n",
       "       [0.94630078, 0.91320739, 0.33458953],\n",
       "       [0.89383255, 0.90958605, 0.50781656]])"
      ]
     },
     "execution_count": 23,
     "metadata": {
      "tags": []
     },
     "output_type": "execute_result"
    }
   ],
   "source": [
    "x"
   ]
  },
  {
   "cell_type": "code",
   "execution_count": 24,
   "metadata": {
    "colab": {},
    "colab_type": "code",
    "id": "Fk6Ym1xf90p7"
   },
   "outputs": [],
   "source": [
    "XY = np.concatenate([x,y.reshape(-1,1)], axis=1)"
   ]
  },
  {
   "cell_type": "code",
   "execution_count": 25,
   "metadata": {
    "colab": {},
    "colab_type": "code",
    "id": "YpfmSLRhE96Q"
   },
   "outputs": [],
   "source": [
    "# Remove all rows with either feature or label null\n",
    "XY = XY[~np.isnan(XY).any(axis=1)]"
   ]
  },
  {
   "cell_type": "code",
   "execution_count": 26,
   "metadata": {
    "colab": {
     "base_uri": "https://localhost:8080/",
     "height": 34
    },
    "colab_type": "code",
    "id": "NlGzkVhKFStE",
    "outputId": "e8d6894b-2866-4823-f70a-60ce9de26b44"
   },
   "outputs": [
    {
     "data": {
      "text/plain": [
       "(644, 4)"
      ]
     },
     "execution_count": 26,
     "metadata": {
      "tags": []
     },
     "output_type": "execute_result"
    }
   ],
   "source": [
    "XY.shape"
   ]
  },
  {
   "cell_type": "code",
   "execution_count": 27,
   "metadata": {
    "colab": {},
    "colab_type": "code",
    "id": "xQJngR0oUE4t"
   },
   "outputs": [],
   "source": [
    "\n",
    "train_XY_len = int(XY.shape[0] * 0.75)\n",
    "trainXY, testXY = XY[0:train_XY_len], XY[train_XY_len:]"
   ]
  },
  {
   "cell_type": "code",
   "execution_count": 28,
   "metadata": {
    "colab": {},
    "colab_type": "code",
    "id": "BBKSul4EcSey"
   },
   "outputs": [],
   "source": [
    "trainX = trainXY[:,:3]\n",
    "trainY = trainXY[:,3]\n",
    "testX = testXY[:,:3]\n",
    "testY = testXY[:,3]"
   ]
  },
  {
   "cell_type": "code",
   "execution_count": 29,
   "metadata": {
    "colab": {},
    "colab_type": "code",
    "id": "9x_PWe0OchxU"
   },
   "outputs": [],
   "source": [
    "trainX = np.reshape(trainX, (trainX.shape[0], 1, trainX.shape[1]))\n",
    "testX = np.reshape(testX, (testX.shape[0], 1, testX.shape[1]))"
   ]
  },
  {
   "cell_type": "code",
   "execution_count": 30,
   "metadata": {
    "colab": {},
    "colab_type": "code",
    "id": "h7ZJdVB-ckA8"
   },
   "outputs": [],
   "source": [
    "# Number of features\n",
    "step_size = 3\n",
    " \n",
    "#Define the sequential object\n",
    "classifier = Sequential()\n",
    "\n",
    "# Add LSTM later with 50 units and input size (1,3)\n",
    "classifier.add(LSTM(units = 50, return_sequences = True, input_shape = (1, step_size)))\n",
    "\n",
    "# Add dropout for regularisation \n",
    "classifier.add(Dropout(0.2))\n",
    "\n",
    "# Add another LSTM unit\n",
    "classifier.add(LSTM(units = 50, return_sequences = True))\n",
    "\n",
    "# Add dropout for regularisation \n",
    "classifier.add(Dropout(0.2))\n",
    "classifier.add(LSTM(units = 50, return_sequences = True))\n",
    "classifier.add(Dropout(0.2))\n",
    "classifier.add(LSTM(units = 50))\n",
    "classifier.add(Dropout(0.2))\n",
    "\n",
    "# Add fully connected layer with one output\n",
    "classifier.add(Dense(units = 1))\n",
    " \n",
    "# Compile the model - set loss function, optimisation algorithm and evaluation metric\n",
    "classifier.compile(loss='mean_squared_error', optimizer='adam',metrics=['accuracy'])\n"
   ]
  },
  {
   "cell_type": "code",
   "execution_count": 31,
   "metadata": {
    "colab": {
     "base_uri": "https://localhost:8080/",
     "height": 904
    },
    "colab_type": "code",
    "id": "dwqoXIQKcm8z",
    "outputId": "886040d4-2065-42a2-a7b5-25c62a920524"
   },
   "outputs": [
    {
     "name": "stdout",
     "output_type": "stream",
     "text": [
      "Train on 323 samples, validate on 160 samples\n",
      "Epoch 1/25\n",
      "323/323 [==============================] - 7s 22ms/step - loss: 0.3072 - accuracy: 0.4768 - val_loss: 0.2498 - val_accuracy: 0.5188\n",
      "Epoch 2/25\n",
      "323/323 [==============================] - 5s 16ms/step - loss: 0.2437 - accuracy: 0.5511 - val_loss: 0.2442 - val_accuracy: 0.5188\n",
      "Epoch 3/25\n",
      "323/323 [==============================] - 5s 17ms/step - loss: 0.2304 - accuracy: 0.6006 - val_loss: 0.2241 - val_accuracy: 0.6625\n",
      "Epoch 4/25\n",
      "323/323 [==============================] - 5s 17ms/step - loss: 0.2189 - accuracy: 0.6285 - val_loss: 0.1936 - val_accuracy: 0.7500\n",
      "Epoch 5/25\n",
      "323/323 [==============================] - 5s 16ms/step - loss: 0.1948 - accuracy: 0.7090 - val_loss: 0.1951 - val_accuracy: 0.6000\n",
      "Epoch 6/25\n",
      "323/323 [==============================] - 5s 16ms/step - loss: 0.1802 - accuracy: 0.7245 - val_loss: 0.1531 - val_accuracy: 0.7375\n",
      "Epoch 7/25\n",
      "323/323 [==============================] - 5s 17ms/step - loss: 0.1805 - accuracy: 0.7554 - val_loss: 0.1456 - val_accuracy: 0.7875\n",
      "Epoch 8/25\n",
      "323/323 [==============================] - 5s 16ms/step - loss: 0.1619 - accuracy: 0.7678 - val_loss: 0.1254 - val_accuracy: 0.8500\n",
      "Epoch 9/25\n",
      "323/323 [==============================] - 5s 16ms/step - loss: 0.1558 - accuracy: 0.7895 - val_loss: 0.1219 - val_accuracy: 0.9625\n",
      "Epoch 10/25\n",
      "323/323 [==============================] - 5s 17ms/step - loss: 0.1474 - accuracy: 0.7988 - val_loss: 0.1223 - val_accuracy: 0.9500\n",
      "Epoch 11/25\n",
      "323/323 [==============================] - 5s 17ms/step - loss: 0.1473 - accuracy: 0.7926 - val_loss: 0.1324 - val_accuracy: 0.7500\n",
      "Epoch 12/25\n",
      "323/323 [==============================] - 5s 16ms/step - loss: 0.1357 - accuracy: 0.8390 - val_loss: 0.1032 - val_accuracy: 0.9250\n",
      "Epoch 13/25\n",
      "323/323 [==============================] - 5s 16ms/step - loss: 0.1315 - accuracy: 0.8359 - val_loss: 0.1056 - val_accuracy: 0.8750\n",
      "Epoch 14/25\n",
      "323/323 [==============================] - 5s 17ms/step - loss: 0.1140 - accuracy: 0.8854 - val_loss: 0.0971 - val_accuracy: 0.8750\n",
      "Epoch 15/25\n",
      "323/323 [==============================] - 6s 17ms/step - loss: 0.1150 - accuracy: 0.8700 - val_loss: 0.1140 - val_accuracy: 0.7688\n",
      "Epoch 16/25\n",
      "323/323 [==============================] - 5s 17ms/step - loss: 0.1095 - accuracy: 0.8916 - val_loss: 0.0827 - val_accuracy: 0.9750\n",
      "Epoch 17/25\n",
      "323/323 [==============================] - 5s 17ms/step - loss: 0.1039 - accuracy: 0.8731 - val_loss: 0.1221 - val_accuracy: 0.7625\n",
      "Epoch 18/25\n",
      "323/323 [==============================] - 5s 16ms/step - loss: 0.1032 - accuracy: 0.8885 - val_loss: 0.1557 - val_accuracy: 0.7375\n",
      "Epoch 19/25\n",
      "323/323 [==============================] - 5s 17ms/step - loss: 0.1010 - accuracy: 0.8854 - val_loss: 0.1105 - val_accuracy: 0.8062\n",
      "Epoch 20/25\n",
      "323/323 [==============================] - 5s 16ms/step - loss: 0.0912 - accuracy: 0.8978 - val_loss: 0.0692 - val_accuracy: 0.9375\n",
      "Epoch 21/25\n",
      "323/323 [==============================] - 5s 16ms/step - loss: 0.0831 - accuracy: 0.9040 - val_loss: 0.1397 - val_accuracy: 0.7563\n",
      "Epoch 22/25\n",
      "323/323 [==============================] - 5s 16ms/step - loss: 0.0877 - accuracy: 0.8762 - val_loss: 0.0916 - val_accuracy: 0.8500\n",
      "Epoch 23/25\n",
      "323/323 [==============================] - 5s 16ms/step - loss: 0.0749 - accuracy: 0.9195 - val_loss: 0.0761 - val_accuracy: 0.8813\n",
      "Epoch 24/25\n",
      "323/323 [==============================] - 5s 16ms/step - loss: 0.0579 - accuracy: 0.9443 - val_loss: 0.0753 - val_accuracy: 0.8750\n",
      "Epoch 25/25\n",
      "323/323 [==============================] - 5s 16ms/step - loss: 0.0767 - accuracy: 0.9102 - val_loss: 0.0354 - val_accuracy: 0.9625\n"
     ]
    }
   ],
   "source": [
    "# Train the model \n",
    "history = classifier.fit(trainX, trainY, epochs=25, batch_size=1,  validation_split=0.33)\n",
    " \n",
    "# Get test and train set predictions\n",
    "trainPredict = classifier.predict(trainX)\n",
    "testPredict = classifier.predict(testX)\n",
    " "
   ]
  },
  {
   "cell_type": "code",
   "execution_count": 32,
   "metadata": {
    "colab": {},
    "colab_type": "code",
    "id": "41YTtvxCe3fU"
   },
   "outputs": [],
   "source": [
    "test = np.where(testPredict>0.5, 1, 0)\n",
    "# Get the confusion matrix for binary classification\n",
    "#confusion_matrix(testY,test)"
   ]
  },
  {
   "cell_type": "code",
   "execution_count": 33,
   "metadata": {
    "colab": {},
    "colab_type": "code",
    "id": "pqaVDS-uc35T"
   },
   "outputs": [],
   "source": [
    "test = test.reshape(161,)"
   ]
  },
  {
   "cell_type": "code",
   "execution_count": 34,
   "metadata": {
    "colab": {
     "base_uri": "https://localhost:8080/",
     "height": 34
    },
    "colab_type": "code",
    "id": "bTQEiRQaWkqA",
    "outputId": "00c7698d-40d4-47a1-e467-add0ff6d1738"
   },
   "outputs": [
    {
     "data": {
      "text/plain": [
       "161"
      ]
     },
     "execution_count": 34,
     "metadata": {
      "tags": []
     },
     "output_type": "execute_result"
    }
   ],
   "source": [
    "len(test)"
   ]
  },
  {
   "cell_type": "code",
   "execution_count": 35,
   "metadata": {
    "colab": {
     "base_uri": "https://localhost:8080/",
     "height": 34
    },
    "colab_type": "code",
    "id": "lmIsg1zSU-U7",
    "outputId": "0f61bd47-c894-42d9-9601-d84df56f2cbf"
   },
   "outputs": [
    {
     "data": {
      "text/plain": [
       "161"
      ]
     },
     "execution_count": 35,
     "metadata": {
      "tags": []
     },
     "output_type": "execute_result"
    }
   ],
   "source": [
    "len(testY)"
   ]
  },
  {
   "cell_type": "code",
   "execution_count": 36,
   "metadata": {
    "colab": {
     "base_uri": "https://localhost:8080/",
     "height": 153
    },
    "colab_type": "code",
    "id": "n_oHn1_BXmqZ",
    "outputId": "95f444b2-2a0d-43dc-a5b4-21b3b4bfc352"
   },
   "outputs": [
    {
     "data": {
      "text/plain": [
       "array([1, 1, 1, 0, 1, 1, 0, 1, 1, 0, 0, 0, 0, 1, 0, 1, 0, 1, 1, 1, 0, 1,\n",
       "       0, 1, 1, 0, 1, 0, 0, 1, 1, 0, 0, 1, 0, 0, 1, 1, 0, 0, 0, 1, 1, 1,\n",
       "       0, 1, 0, 1, 0, 0, 0, 1, 0, 0, 0, 0, 1, 0, 0, 1, 0, 1, 0, 0, 0, 1,\n",
       "       0, 0, 1, 0, 1, 0, 0, 0, 0, 1, 0, 1, 0, 1, 0, 0, 1, 0, 1, 0, 1, 1,\n",
       "       1, 1, 0, 1, 0, 0, 0, 1, 0, 1, 0, 0, 1, 1, 0, 1, 1, 1, 1, 1, 1, 0,\n",
       "       0, 1, 0, 1, 0, 1, 0, 1, 0, 1, 0, 0, 1, 1, 1, 0, 1, 1, 1, 1, 0, 1,\n",
       "       1, 1, 0, 0, 0, 1, 1, 0, 1, 0, 1, 1, 0, 0, 1, 0, 1, 0, 0, 0, 1, 1,\n",
       "       0, 0, 1, 0, 0, 0, 0])"
      ]
     },
     "execution_count": 36,
     "metadata": {
      "tags": []
     },
     "output_type": "execute_result"
    }
   ],
   "source": [
    "test"
   ]
  },
  {
   "cell_type": "code",
   "execution_count": 37,
   "metadata": {
    "colab": {
     "base_uri": "https://localhost:8080/",
     "height": 153
    },
    "colab_type": "code",
    "id": "kmccbZfzXm9u",
    "outputId": "7fd11a14-7629-4f21-8e0a-59848dd39787"
   },
   "outputs": [
    {
     "data": {
      "text/plain": [
       "array([1, 1, 1, 0, 1, 1, 1, 1, 1, 1, 0, 1, 0, 1, 1, 1, 0, 1, 1, 1, 0, 1,\n",
       "       0, 1, 1, 1, 1, 0, 0, 1, 1, 0, 1, 1, 0, 0, 1, 1, 0, 0, 0, 1, 1, 1,\n",
       "       0, 1, 0, 1, 0, 1, 0, 1, 0, 0, 0, 0, 1, 0, 0, 1, 0, 1, 0, 0, 0, 1,\n",
       "       0, 0, 1, 0, 1, 0, 0, 0, 0, 1, 0, 1, 0, 1, 0, 0, 1, 0, 1, 0, 1, 1,\n",
       "       1, 1, 0, 1, 0, 0, 0, 1, 0, 1, 1, 0, 1, 1, 0, 1, 1, 1, 1, 1, 1, 0,\n",
       "       0, 1, 0, 1, 0, 1, 0, 1, 0, 1, 1, 0, 1, 1, 1, 0, 1, 1, 1, 1, 0, 1,\n",
       "       1, 1, 0, 1, 0, 1, 1, 0, 1, 0, 1, 1, 0, 0, 1, 0, 1, 1, 1, 0, 1, 1,\n",
       "       0, 0, 1, 0, 1, 0, 0])"
      ]
     },
     "execution_count": 37,
     "metadata": {
      "tags": []
     },
     "output_type": "execute_result"
    }
   ],
   "source": [
    "testY.astype(int)"
   ]
  },
  {
   "cell_type": "code",
   "execution_count": 38,
   "metadata": {
    "colab": {},
    "colab_type": "code",
    "id": "THy0kta_VDyb"
   },
   "outputs": [],
   "source": [
    "# Get the confusion matrix for binary classification\n",
    "cf_matrix = confusion_matrix(testY.astype(int),test)"
   ]
  },
  {
   "cell_type": "code",
   "execution_count": 39,
   "metadata": {
    "colab": {
     "base_uri": "https://localhost:8080/",
     "height": 51
    },
    "colab_type": "code",
    "id": "YIVXSgTxZztd",
    "outputId": "965127b5-5a13-4205-c2cc-e2da973b9490"
   },
   "outputs": [
    {
     "data": {
      "text/plain": [
       "array([[70,  0],\n",
       "       [13, 78]])"
      ]
     },
     "execution_count": 39,
     "metadata": {
      "tags": []
     },
     "output_type": "execute_result"
    }
   ],
   "source": [
    "cf_matrix"
   ]
  },
  {
   "cell_type": "code",
   "execution_count": 40,
   "metadata": {
    "colab": {
     "base_uri": "https://localhost:8080/",
     "height": 336
    },
    "colab_type": "code",
    "id": "8v-WjTdfVhvM",
    "outputId": "53601ade-fe2a-4ba5-fcc8-930b885fc890"
   },
   "outputs": [
    {
     "name": "stderr",
     "output_type": "stream",
     "text": [
      "/usr/local/lib/python3.6/dist-packages/statsmodels/tools/_testing.py:19: FutureWarning: pandas.util.testing is deprecated. Use the functions in the public API at pandas.testing instead.\n",
      "  import pandas.util.testing as tm\n"
     ]
    },
    {
     "data": {
      "text/plain": [
       "<matplotlib.axes._subplots.AxesSubplot at 0x7f154f421048>"
      ]
     },
     "execution_count": 40,
     "metadata": {
      "tags": []
     },
     "output_type": "execute_result"
    },
    {
     "data": {
      "image/png": "[encoded data removed]",
      "text/plain": [
       "<Figure size 432x288 with 2 Axes>"
      ]
     },
     "metadata": {
      "needs_background": "light",
      "tags": []
     },
     "output_type": "display_data"
    }
   ],
   "source": [
    "import seaborn as sns\n",
    "sns.heatmap(cf_matrix, annot=True, cmap='Blues')"
   ]
  },
  {
   "cell_type": "code",
   "execution_count": 41,
   "metadata": {
    "colab": {
     "base_uri": "https://localhost:8080/",
     "height": 295
    },
    "colab_type": "code",
    "id": "ddR_02qKZMRI",
    "outputId": "2be83cf0-5e60-4a97-bc83-bb719bc7bf08"
   },
   "outputs": [
    {
     "data": {
      "image/png": "[encoded data removed]",
      "text/plain": [
       "<Figure size 432x288 with 1 Axes>"
      ]
     },
     "metadata": {
      "needs_background": "light",
      "tags": []
     },
     "output_type": "display_data"
    }
   ],
   "source": [
    "plt.plot(history.history['loss'])\n",
    "plt.plot(history.history['val_loss'])\n",
    "plt.title('model train vs validation loss')\n",
    "plt.ylabel('loss')\n",
    "plt.xlabel('epoch')\n",
    "plt.legend(['train', 'validation'], loc='upper right')\n",
    "plt.show()"
   ]
  },
  {
   "cell_type": "code",
   "execution_count": 41,
   "metadata": {
    "colab": {},
    "colab_type": "code",
    "id": "YU0bLIuyblUN"
   },
   "outputs": [],
   "source": []
  }
 ],
 "metadata": {
  "accelerator": "GPU",
  "colab": {
   "name": "StockMarketPrediction-WDSI.ipynb",
   "provenance": []
  },
  "kernelspec": {
   "display_name": "Python 3",
   "language": "python",
   "name": "python3"
  },
  "language_info": {
   "codemirror_mode": {
    "name": "ipython",
    "version": 3
   },
   "file_extension": ".py",
   "mimetype": "text/x-python",
   "name": "python",
   "nbconvert_exporter": "python",
   "pygments_lexer": "ipython3",
   "version": "3.7.5"
  }
 },
 "nbformat": 4,
 "nbformat_minor": 1
}
